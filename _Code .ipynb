{
 "cells": [
  {
   "cell_type": "markdown",
   "metadata": {},
   "source": [
    "## Import CSV"
   ]
  },
  {
   "cell_type": "code",
   "execution_count": 1,
   "metadata": {},
   "outputs": [],
   "source": [
    "import pandas\n"
   ]
  },
  {
   "cell_type": "code",
   "execution_count": 2,
   "metadata": {},
   "outputs": [
    {
     "data": {
      "text/html": [
       "<div>\n",
       "<style scoped>\n",
       "    .dataframe tbody tr th:only-of-type {\n",
       "        vertical-align: middle;\n",
       "    }\n",
       "\n",
       "    .dataframe tbody tr th {\n",
       "        vertical-align: top;\n",
       "    }\n",
       "\n",
       "    .dataframe thead th {\n",
       "        text-align: right;\n",
       "    }\n",
       "</style>\n",
       "<table border=\"1\" class=\"dataframe\">\n",
       "  <thead>\n",
       "    <tr style=\"text-align: right;\">\n",
       "      <th></th>\n",
       "      <th>Date</th>\n",
       "      <th>VFINX(t-1)</th>\n",
       "      <th>TROW(t-1)</th>\n",
       "      <th>AME(t-1)</th>\n",
       "      <th>HON(t-1)</th>\n",
       "      <th>DFS(t-1)</th>\n",
       "      <th>ALL(t-1)</th>\n",
       "      <th>ACN(t-1)</th>\n",
       "      <th>ANSS(t-1)</th>\n",
       "      <th>IEX(t-1)</th>\n",
       "      <th>...</th>\n",
       "      <th>FMC(t-1)</th>\n",
       "      <th>ADP(t-1)</th>\n",
       "      <th>ADBE(t-1)</th>\n",
       "      <th>PFG(t-1)</th>\n",
       "      <th>VFC(t-1)</th>\n",
       "      <th>J(t-1)</th>\n",
       "      <th>TEL(t-1)</th>\n",
       "      <th>KSU(t-1)</th>\n",
       "      <th>OKE(t-1)</th>\n",
       "      <th>VFINX</th>\n",
       "    </tr>\n",
       "  </thead>\n",
       "  <tbody>\n",
       "    <tr>\n",
       "      <th>0</th>\n",
       "      <td>2018-10-02</td>\n",
       "      <td>260.239471</td>\n",
       "      <td>103.538559</td>\n",
       "      <td>78.568626</td>\n",
       "      <td>154.321274</td>\n",
       "      <td>72.776505</td>\n",
       "      <td>94.539589</td>\n",
       "      <td>167.113846</td>\n",
       "      <td>186.000000</td>\n",
       "      <td>146.973923</td>\n",
       "      <td>...</td>\n",
       "      <td>73.115768</td>\n",
       "      <td>144.150208</td>\n",
       "      <td>275.489990</td>\n",
       "      <td>53.536732</td>\n",
       "      <td>83.702904</td>\n",
       "      <td>75.731094</td>\n",
       "      <td>83.194809</td>\n",
       "      <td>113.995712</td>\n",
       "      <td>57.925274</td>\n",
       "      <td>260.143127</td>\n",
       "    </tr>\n",
       "    <tr>\n",
       "      <th>1</th>\n",
       "      <td>2018-10-03</td>\n",
       "      <td>260.143127</td>\n",
       "      <td>104.820305</td>\n",
       "      <td>78.539040</td>\n",
       "      <td>153.941116</td>\n",
       "      <td>73.345573</td>\n",
       "      <td>94.846626</td>\n",
       "      <td>166.767136</td>\n",
       "      <td>182.210007</td>\n",
       "      <td>145.816498</td>\n",
       "      <td>...</td>\n",
       "      <td>74.699257</td>\n",
       "      <td>145.135178</td>\n",
       "      <td>272.000000</td>\n",
       "      <td>53.774277</td>\n",
       "      <td>83.380348</td>\n",
       "      <td>75.868683</td>\n",
       "      <td>83.271461</td>\n",
       "      <td>111.942970</td>\n",
       "      <td>57.026356</td>\n",
       "      <td>260.326233</td>\n",
       "    </tr>\n",
       "    <tr>\n",
       "      <th>2</th>\n",
       "      <td>2018-10-04</td>\n",
       "      <td>260.326233</td>\n",
       "      <td>105.348068</td>\n",
       "      <td>78.677048</td>\n",
       "      <td>153.338425</td>\n",
       "      <td>73.990540</td>\n",
       "      <td>94.817833</td>\n",
       "      <td>167.720612</td>\n",
       "      <td>182.220001</td>\n",
       "      <td>146.837753</td>\n",
       "      <td>...</td>\n",
       "      <td>76.641113</td>\n",
       "      <td>144.963043</td>\n",
       "      <td>270.510010</td>\n",
       "      <td>54.642189</td>\n",
       "      <td>84.043381</td>\n",
       "      <td>76.281441</td>\n",
       "      <td>83.166061</td>\n",
       "      <td>110.945923</td>\n",
       "      <td>57.488415</td>\n",
       "      <td>258.254456</td>\n",
       "    </tr>\n",
       "    <tr>\n",
       "      <th>3</th>\n",
       "      <td>2018-10-05</td>\n",
       "      <td>258.254456</td>\n",
       "      <td>104.424477</td>\n",
       "      <td>78.115204</td>\n",
       "      <td>152.717224</td>\n",
       "      <td>73.734451</td>\n",
       "      <td>95.412743</td>\n",
       "      <td>165.524673</td>\n",
       "      <td>175.380005</td>\n",
       "      <td>145.728958</td>\n",
       "      <td>...</td>\n",
       "      <td>76.066055</td>\n",
       "      <td>143.652939</td>\n",
       "      <td>263.709991</td>\n",
       "      <td>55.336517</td>\n",
       "      <td>81.937820</td>\n",
       "      <td>76.517296</td>\n",
       "      <td>82.552856</td>\n",
       "      <td>111.444450</td>\n",
       "      <td>57.530418</td>\n",
       "      <td>256.837982</td>\n",
       "    </tr>\n",
       "    <tr>\n",
       "      <th>4</th>\n",
       "      <td>2018-10-08</td>\n",
       "      <td>256.837982</td>\n",
       "      <td>103.029625</td>\n",
       "      <td>77.523804</td>\n",
       "      <td>152.123840</td>\n",
       "      <td>72.861847</td>\n",
       "      <td>95.556664</td>\n",
       "      <td>164.917877</td>\n",
       "      <td>173.750000</td>\n",
       "      <td>144.007416</td>\n",
       "      <td>...</td>\n",
       "      <td>75.557678</td>\n",
       "      <td>144.389282</td>\n",
       "      <td>263.220001</td>\n",
       "      <td>54.815769</td>\n",
       "      <td>81.955727</td>\n",
       "      <td>75.220070</td>\n",
       "      <td>80.665329</td>\n",
       "      <td>109.577431</td>\n",
       "      <td>57.639633</td>\n",
       "      <td>256.731964</td>\n",
       "    </tr>\n",
       "  </tbody>\n",
       "</table>\n",
       "<p>5 rows × 22 columns</p>\n",
       "</div>"
      ],
      "text/plain": [
       "         Date  VFINX(t-1)   TROW(t-1)   AME(t-1)    HON(t-1)   DFS(t-1)  \\\n",
       "0  2018-10-02  260.239471  103.538559  78.568626  154.321274  72.776505   \n",
       "1  2018-10-03  260.143127  104.820305  78.539040  153.941116  73.345573   \n",
       "2  2018-10-04  260.326233  105.348068  78.677048  153.338425  73.990540   \n",
       "3  2018-10-05  258.254456  104.424477  78.115204  152.717224  73.734451   \n",
       "4  2018-10-08  256.837982  103.029625  77.523804  152.123840  72.861847   \n",
       "\n",
       "    ALL(t-1)    ACN(t-1)   ANSS(t-1)    IEX(t-1)  ...   FMC(t-1)    ADP(t-1)  \\\n",
       "0  94.539589  167.113846  186.000000  146.973923  ...  73.115768  144.150208   \n",
       "1  94.846626  166.767136  182.210007  145.816498  ...  74.699257  145.135178   \n",
       "2  94.817833  167.720612  182.220001  146.837753  ...  76.641113  144.963043   \n",
       "3  95.412743  165.524673  175.380005  145.728958  ...  76.066055  143.652939   \n",
       "4  95.556664  164.917877  173.750000  144.007416  ...  75.557678  144.389282   \n",
       "\n",
       "    ADBE(t-1)   PFG(t-1)   VFC(t-1)     J(t-1)   TEL(t-1)    KSU(t-1)  \\\n",
       "0  275.489990  53.536732  83.702904  75.731094  83.194809  113.995712   \n",
       "1  272.000000  53.774277  83.380348  75.868683  83.271461  111.942970   \n",
       "2  270.510010  54.642189  84.043381  76.281441  83.166061  110.945923   \n",
       "3  263.709991  55.336517  81.937820  76.517296  82.552856  111.444450   \n",
       "4  263.220001  54.815769  81.955727  75.220070  80.665329  109.577431   \n",
       "\n",
       "    OKE(t-1)       VFINX  \n",
       "0  57.925274  260.143127  \n",
       "1  57.026356  260.326233  \n",
       "2  57.488415  258.254456  \n",
       "3  57.530418  256.837982  \n",
       "4  57.639633  256.731964  \n",
       "\n",
       "[5 rows x 22 columns]"
      ]
     },
     "execution_count": 2,
     "metadata": {},
     "output_type": "execute_result"
    }
   ],
   "source": [
    "data=pandas.read_csv(\"../dataset/train_data-2018-09-29-2019-09-29.csv\")\n",
    "data = data.fillna(method='ffill')\n",
    "data.head()"
   ]
  },
  {
   "cell_type": "markdown",
   "metadata": {},
   "source": [
    "## Visualize Data"
   ]
  },
  {
   "cell_type": "code",
   "execution_count": 3,
   "metadata": {},
   "outputs": [],
   "source": [
    "from matplotlib import pyplot\n",
    "def plot_data(dataset,groups):\n",
    "    i = 1\n",
    "    pyplot.figure()\n",
    "    values = dataset.values\n",
    "    for group in groups:\n",
    "    \tpyplot.subplot(len(groups), 1, i)\n",
    "    \tpyplot.plot(values[:, group])\n",
    "    \tpyplot.title(dataset.columns[group], y=0.5, loc='right')\n",
    "    \ti += 1\n",
    "    pyplot.show()"
   ]
  },
  {
   "cell_type": "code",
   "execution_count": 4,
   "metadata": {},
   "outputs": [
    {
     "data": {
      "image/png": "[encoded data removed]",
      "text/plain": [
       "<Figure size 432x288 with 19 Axes>"
      ]
     },
     "metadata": {
      "needs_background": "light"
     },
     "output_type": "display_data"
    }
   ],
   "source": [
    "plot_data(data,groups=list(range(1,20)))"
   ]
  },
  {
   "cell_type": "markdown",
   "metadata": {},
   "source": [
    "## Data Summary"
   ]
  },
  {
   "cell_type": "code",
   "execution_count": 5,
   "metadata": {},
   "outputs": [
    {
     "data": {
      "text/html": [
       "<div>\n",
       "<style scoped>\n",
       "    .dataframe tbody tr th:only-of-type {\n",
       "        vertical-align: middle;\n",
       "    }\n",
       "\n",
       "    .dataframe tbody tr th {\n",
       "        vertical-align: top;\n",
       "    }\n",
       "\n",
       "    .dataframe thead th {\n",
       "        text-align: right;\n",
       "    }\n",
       "</style>\n",
       "<table border=\"1\" class=\"dataframe\">\n",
       "  <thead>\n",
       "    <tr style=\"text-align: right;\">\n",
       "      <th></th>\n",
       "      <th>VFINX(t-1)</th>\n",
       "      <th>TROW(t-1)</th>\n",
       "      <th>AME(t-1)</th>\n",
       "      <th>HON(t-1)</th>\n",
       "      <th>DFS(t-1)</th>\n",
       "      <th>ALL(t-1)</th>\n",
       "      <th>ACN(t-1)</th>\n",
       "      <th>ANSS(t-1)</th>\n",
       "      <th>IEX(t-1)</th>\n",
       "      <th>DOV(t-1)</th>\n",
       "      <th>...</th>\n",
       "      <th>FMC(t-1)</th>\n",
       "      <th>ADP(t-1)</th>\n",
       "      <th>ADBE(t-1)</th>\n",
       "      <th>PFG(t-1)</th>\n",
       "      <th>VFC(t-1)</th>\n",
       "      <th>J(t-1)</th>\n",
       "      <th>TEL(t-1)</th>\n",
       "      <th>KSU(t-1)</th>\n",
       "      <th>OKE(t-1)</th>\n",
       "      <th>VFINX</th>\n",
       "    </tr>\n",
       "  </thead>\n",
       "  <tbody>\n",
       "    <tr>\n",
       "      <th>count</th>\n",
       "      <td>249.000000</td>\n",
       "      <td>249.000000</td>\n",
       "      <td>249.000000</td>\n",
       "      <td>249.000000</td>\n",
       "      <td>249.000000</td>\n",
       "      <td>249.000000</td>\n",
       "      <td>249.000000</td>\n",
       "      <td>249.000000</td>\n",
       "      <td>249.000000</td>\n",
       "      <td>249.000000</td>\n",
       "      <td>...</td>\n",
       "      <td>249.000000</td>\n",
       "      <td>249.000000</td>\n",
       "      <td>249.000000</td>\n",
       "      <td>249.000000</td>\n",
       "      <td>249.000000</td>\n",
       "      <td>249.000000</td>\n",
       "      <td>249.000000</td>\n",
       "      <td>249.000000</td>\n",
       "      <td>249.000000</td>\n",
       "      <td>249.000000</td>\n",
       "    </tr>\n",
       "    <tr>\n",
       "      <th>mean</th>\n",
       "      <td>252.927868</td>\n",
       "      <td>97.864427</td>\n",
       "      <td>79.499571</td>\n",
       "      <td>152.545680</td>\n",
       "      <td>71.365435</td>\n",
       "      <td>92.600825</td>\n",
       "      <td>167.971972</td>\n",
       "      <td>181.315060</td>\n",
       "      <td>146.554507</td>\n",
       "      <td>87.336456</td>\n",
       "      <td>...</td>\n",
       "      <td>74.608600</td>\n",
       "      <td>148.260014</td>\n",
       "      <td>265.917832</td>\n",
       "      <td>48.968477</td>\n",
       "      <td>78.422313</td>\n",
       "      <td>74.332346</td>\n",
       "      <td>82.334487</td>\n",
       "      <td>111.525209</td>\n",
       "      <td>57.307343</td>\n",
       "      <td>252.961410</td>\n",
       "    </tr>\n",
       "    <tr>\n",
       "      <th>std</th>\n",
       "      <td>13.484973</td>\n",
       "      <td>7.704858</td>\n",
       "      <td>7.625381</td>\n",
       "      <td>13.363044</td>\n",
       "      <td>7.255570</td>\n",
       "      <td>7.454451</td>\n",
       "      <td>16.825454</td>\n",
       "      <td>22.748154</td>\n",
       "      <td>14.045235</td>\n",
       "      <td>8.047922</td>\n",
       "      <td>...</td>\n",
       "      <td>7.076588</td>\n",
       "      <td>12.496012</td>\n",
       "      <td>23.428150</td>\n",
       "      <td>4.598101</td>\n",
       "      <td>6.346629</td>\n",
       "      <td>9.115553</td>\n",
       "      <td>7.284168</td>\n",
       "      <td>10.575955</td>\n",
       "      <td>4.574301</td>\n",
       "      <td>13.513589</td>\n",
       "    </tr>\n",
       "    <tr>\n",
       "      <th>min</th>\n",
       "      <td>210.128433</td>\n",
       "      <td>80.662437</td>\n",
       "      <td>62.564396</td>\n",
       "      <td>120.112267</td>\n",
       "      <td>52.551876</td>\n",
       "      <td>74.525101</td>\n",
       "      <td>129.919144</td>\n",
       "      <td>136.809998</td>\n",
       "      <td>115.757355</td>\n",
       "      <td>64.279396</td>\n",
       "      <td>...</td>\n",
       "      <td>58.414261</td>\n",
       "      <td>117.282631</td>\n",
       "      <td>205.160004</td>\n",
       "      <td>37.942959</td>\n",
       "      <td>60.704937</td>\n",
       "      <td>54.287388</td>\n",
       "      <td>68.162323</td>\n",
       "      <td>88.795845</td>\n",
       "      <td>43.239388</td>\n",
       "      <td>210.128433</td>\n",
       "    </tr>\n",
       "    <tr>\n",
       "      <th>25%</th>\n",
       "      <td>243.955460</td>\n",
       "      <td>91.409103</td>\n",
       "      <td>71.995964</td>\n",
       "      <td>141.896637</td>\n",
       "      <td>66.507828</td>\n",
       "      <td>88.590675</td>\n",
       "      <td>154.149628</td>\n",
       "      <td>159.270004</td>\n",
       "      <td>133.437073</td>\n",
       "      <td>81.676735</td>\n",
       "      <td>...</td>\n",
       "      <td>68.957001</td>\n",
       "      <td>137.628342</td>\n",
       "      <td>247.820007</td>\n",
       "      <td>45.250412</td>\n",
       "      <td>75.818047</td>\n",
       "      <td>70.945068</td>\n",
       "      <td>75.817169</td>\n",
       "      <td>101.366455</td>\n",
       "      <td>54.460007</td>\n",
       "      <td>243.955460</td>\n",
       "    </tr>\n",
       "    <tr>\n",
       "      <th>50%</th>\n",
       "      <td>254.658005</td>\n",
       "      <td>98.396866</td>\n",
       "      <td>81.350716</td>\n",
       "      <td>153.846848</td>\n",
       "      <td>71.898613</td>\n",
       "      <td>92.697357</td>\n",
       "      <td>170.206055</td>\n",
       "      <td>182.149994</td>\n",
       "      <td>148.024277</td>\n",
       "      <td>88.522682</td>\n",
       "      <td>...</td>\n",
       "      <td>74.837372</td>\n",
       "      <td>152.241287</td>\n",
       "      <td>267.890015</td>\n",
       "      <td>49.647484</td>\n",
       "      <td>78.748695</td>\n",
       "      <td>75.249763</td>\n",
       "      <td>82.654350</td>\n",
       "      <td>114.242844</td>\n",
       "      <td>57.732048</td>\n",
       "      <td>254.658005</td>\n",
       "    </tr>\n",
       "    <tr>\n",
       "      <th>75%</th>\n",
       "      <td>263.283905</td>\n",
       "      <td>103.492867</td>\n",
       "      <td>85.555267</td>\n",
       "      <td>164.302399</td>\n",
       "      <td>76.555908</td>\n",
       "      <td>99.204300</td>\n",
       "      <td>182.385941</td>\n",
       "      <td>201.389999</td>\n",
       "      <td>159.577927</td>\n",
       "      <td>94.058998</td>\n",
       "      <td>...</td>\n",
       "      <td>80.424294</td>\n",
       "      <td>159.150696</td>\n",
       "      <td>282.440002</td>\n",
       "      <td>52.679642</td>\n",
       "      <td>84.043381</td>\n",
       "      <td>80.946060</td>\n",
       "      <td>88.550980</td>\n",
       "      <td>119.679390</td>\n",
       "      <td>60.284874</td>\n",
       "      <td>263.283905</td>\n",
       "    </tr>\n",
       "    <tr>\n",
       "      <th>max</th>\n",
       "      <td>273.387878</td>\n",
       "      <td>115.721199</td>\n",
       "      <td>91.274490</td>\n",
       "      <td>173.412979</td>\n",
       "      <td>89.584183</td>\n",
       "      <td>106.184959</td>\n",
       "      <td>197.095581</td>\n",
       "      <td>220.080002</td>\n",
       "      <td>170.246567</td>\n",
       "      <td>100.957199</td>\n",
       "      <td>...</td>\n",
       "      <td>88.981522</td>\n",
       "      <td>168.310822</td>\n",
       "      <td>311.269989</td>\n",
       "      <td>57.197823</td>\n",
       "      <td>88.461548</td>\n",
       "      <td>92.553841</td>\n",
       "      <td>94.963776</td>\n",
       "      <td>131.932938</td>\n",
       "      <td>67.711670</td>\n",
       "      <td>273.387878</td>\n",
       "    </tr>\n",
       "  </tbody>\n",
       "</table>\n",
       "<p>8 rows × 21 columns</p>\n",
       "</div>"
      ],
      "text/plain": [
       "       VFINX(t-1)   TROW(t-1)    AME(t-1)    HON(t-1)    DFS(t-1)    ALL(t-1)  \\\n",
       "count  249.000000  249.000000  249.000000  249.000000  249.000000  249.000000   \n",
       "mean   252.927868   97.864427   79.499571  152.545680   71.365435   92.600825   \n",
       "std     13.484973    7.704858    7.625381   13.363044    7.255570    7.454451   \n",
       "min    210.128433   80.662437   62.564396  120.112267   52.551876   74.525101   \n",
       "25%    243.955460   91.409103   71.995964  141.896637   66.507828   88.590675   \n",
       "50%    254.658005   98.396866   81.350716  153.846848   71.898613   92.697357   \n",
       "75%    263.283905  103.492867   85.555267  164.302399   76.555908   99.204300   \n",
       "max    273.387878  115.721199   91.274490  173.412979   89.584183  106.184959   \n",
       "\n",
       "         ACN(t-1)   ANSS(t-1)    IEX(t-1)    DOV(t-1)  ...    FMC(t-1)  \\\n",
       "count  249.000000  249.000000  249.000000  249.000000  ...  249.000000   \n",
       "mean   167.971972  181.315060  146.554507   87.336456  ...   74.608600   \n",
       "std     16.825454   22.748154   14.045235    8.047922  ...    7.076588   \n",
       "min    129.919144  136.809998  115.757355   64.279396  ...   58.414261   \n",
       "25%    154.149628  159.270004  133.437073   81.676735  ...   68.957001   \n",
       "50%    170.206055  182.149994  148.024277   88.522682  ...   74.837372   \n",
       "75%    182.385941  201.389999  159.577927   94.058998  ...   80.424294   \n",
       "max    197.095581  220.080002  170.246567  100.957199  ...   88.981522   \n",
       "\n",
       "         ADP(t-1)   ADBE(t-1)    PFG(t-1)    VFC(t-1)      J(t-1)    TEL(t-1)  \\\n",
       "count  249.000000  249.000000  249.000000  249.000000  249.000000  249.000000   \n",
       "mean   148.260014  265.917832   48.968477   78.422313   74.332346   82.334487   \n",
       "std     12.496012   23.428150    4.598101    6.346629    9.115553    7.284168   \n",
       "min    117.282631  205.160004   37.942959   60.704937   54.287388   68.162323   \n",
       "25%    137.628342  247.820007   45.250412   75.818047   70.945068   75.817169   \n",
       "50%    152.241287  267.890015   49.647484   78.748695   75.249763   82.654350   \n",
       "75%    159.150696  282.440002   52.679642   84.043381   80.946060   88.550980   \n",
       "max    168.310822  311.269989   57.197823   88.461548   92.553841   94.963776   \n",
       "\n",
       "         KSU(t-1)    OKE(t-1)       VFINX  \n",
       "count  249.000000  249.000000  249.000000  \n",
       "mean   111.525209   57.307343  252.961410  \n",
       "std     10.575955    4.574301   13.513589  \n",
       "min     88.795845   43.239388  210.128433  \n",
       "25%    101.366455   54.460007  243.955460  \n",
       "50%    114.242844   57.732048  254.658005  \n",
       "75%    119.679390   60.284874  263.283905  \n",
       "max    131.932938   67.711670  273.387878  \n",
       "\n",
       "[8 rows x 21 columns]"
      ]
     },
     "execution_count": 5,
     "metadata": {},
     "output_type": "execute_result"
    }
   ],
   "source": [
    "data.describe()"
   ]
  },
  {
   "cell_type": "markdown",
   "metadata": {},
   "source": [
    "## Independent and identically distributed (I.I.D.) Testing"
   ]
  },
  {
   "cell_type": "code",
   "execution_count": 6,
   "metadata": {},
   "outputs": [
    {
     "data": {
      "image/png": "[encoded data removed]",
      "text/plain": [
       "<Figure size 432x288 with 1 Axes>"
      ]
     },
     "metadata": {
      "needs_background": "light"
     },
     "output_type": "display_data"
    }
   ],
   "source": [
    "import statsmodels.api as sm\n",
    "import matplotlib.pyplot as plt\n",
    "sm.graphics.tsa.plot_acf(data['VFINX'].values, lags=40)\n",
    "plt.show()"
   ]
  },
  {
   "cell_type": "markdown",
   "metadata": {},
   "source": [
    "## Histogram"
   ]
  },
  {
   "cell_type": "code",
   "execution_count": 7,
   "metadata": {},
   "outputs": [
    {
     "data": {
      "text/plain": [
       "<AxesSubplot:ylabel='Frequency'>"
      ]
     },
     "execution_count": 7,
     "metadata": {},
     "output_type": "execute_result"
    },
    {
     "data": {
      "image/png": "[encoded data removed]",
      "text/plain": [
       "<Figure size 432x288 with 1 Axes>"
      ]
     },
     "metadata": {
      "needs_background": "light"
     },
     "output_type": "display_data"
    }
   ],
   "source": [
    "data.plot(kind=\"hist\",bins=50)"
   ]
  },
  {
   "cell_type": "markdown",
   "metadata": {},
   "source": [
    "## Normal Test "
   ]
  },
  {
   "cell_type": "code",
   "execution_count": 8,
   "metadata": {},
   "outputs": [
    {
     "name": "stdout",
     "output_type": "stream",
     "text": [
      "ShapiroResult(statistic=0.9609334468841553, pvalue=2.728155322984094e-06)\n"
     ]
    }
   ],
   "source": [
    "from scipy import stats\n",
    "print(stats.shapiro(data['VFINX'].values))\n",
    "#print(stats.shapiro(data['VBMFX'].values))"
   ]
  },
  {
   "cell_type": "markdown",
   "metadata": {},
   "source": [
    "## *** LSTM ***"
   ]
  },
  {
   "cell_type": "code",
   "execution_count": 9,
   "metadata": {},
   "outputs": [],
   "source": [
    "from sklearn.preprocessing import MinMaxScaler, LabelEncoder\n",
    "def Standard_MinMax(data):\n",
    "    sc = MinMaxScaler(feature_range = (0, 1))\n",
    "    return sc.fit_transform(data.reshape(-1,1))"
   ]
  },
  {
   "cell_type": "code",
   "execution_count": 10,
   "metadata": {},
   "outputs": [
    {
     "data": {
      "text/html": [
       "<div>\n",
       "<style scoped>\n",
       "    .dataframe tbody tr th:only-of-type {\n",
       "        vertical-align: middle;\n",
       "    }\n",
       "\n",
       "    .dataframe tbody tr th {\n",
       "        vertical-align: top;\n",
       "    }\n",
       "\n",
       "    .dataframe thead th {\n",
       "        text-align: right;\n",
       "    }\n",
       "</style>\n",
       "<table border=\"1\" class=\"dataframe\">\n",
       "  <thead>\n",
       "    <tr style=\"text-align: right;\">\n",
       "      <th></th>\n",
       "      <th>VFINX(t-1)</th>\n",
       "      <th>TROW(t-1)</th>\n",
       "      <th>AME(t-1)</th>\n",
       "      <th>HON(t-1)</th>\n",
       "      <th>DFS(t-1)</th>\n",
       "      <th>ALL(t-1)</th>\n",
       "      <th>ACN(t-1)</th>\n",
       "      <th>ANSS(t-1)</th>\n",
       "      <th>IEX(t-1)</th>\n",
       "      <th>DOV(t-1)</th>\n",
       "      <th>...</th>\n",
       "      <th>FMC(t-1)</th>\n",
       "      <th>ADP(t-1)</th>\n",
       "      <th>ADBE(t-1)</th>\n",
       "      <th>PFG(t-1)</th>\n",
       "      <th>VFC(t-1)</th>\n",
       "      <th>J(t-1)</th>\n",
       "      <th>TEL(t-1)</th>\n",
       "      <th>KSU(t-1)</th>\n",
       "      <th>OKE(t-1)</th>\n",
       "      <th>VFINX</th>\n",
       "    </tr>\n",
       "  </thead>\n",
       "  <tbody>\n",
       "    <tr>\n",
       "      <th>0</th>\n",
       "      <td>268.591461</td>\n",
       "      <td>109.611740</td>\n",
       "      <td>90.682549</td>\n",
       "      <td>164.163223</td>\n",
       "      <td>79.028282</td>\n",
       "      <td>105.616859</td>\n",
       "      <td>187.550476</td>\n",
       "      <td>217.089996</td>\n",
       "      <td>162.049942</td>\n",
       "      <td>98.304520</td>\n",
       "      <td>...</td>\n",
       "      <td>84.523018</td>\n",
       "      <td>156.606064</td>\n",
       "      <td>277.540009</td>\n",
       "      <td>54.648434</td>\n",
       "      <td>86.484261</td>\n",
       "      <td>89.724289</td>\n",
       "      <td>90.763832</td>\n",
       "      <td>131.210144</td>\n",
       "      <td>64.879303</td>\n",
       "      <td>269.957397</td>\n",
       "    </tr>\n",
       "    <tr>\n",
       "      <th>1</th>\n",
       "      <td>269.957397</td>\n",
       "      <td>110.794846</td>\n",
       "      <td>91.129158</td>\n",
       "      <td>165.296432</td>\n",
       "      <td>78.621056</td>\n",
       "      <td>106.449417</td>\n",
       "      <td>188.501068</td>\n",
       "      <td>221.360001</td>\n",
       "      <td>161.399963</td>\n",
       "      <td>97.744904</td>\n",
       "      <td>...</td>\n",
       "      <td>86.044113</td>\n",
       "      <td>157.572479</td>\n",
       "      <td>276.250000</td>\n",
       "      <td>54.429340</td>\n",
       "      <td>86.679070</td>\n",
       "      <td>90.525650</td>\n",
       "      <td>91.223969</td>\n",
       "      <td>131.695297</td>\n",
       "      <td>65.224487</td>\n",
       "      <td>266.665375</td>\n",
       "    </tr>\n",
       "    <tr>\n",
       "      <th>2</th>\n",
       "      <td>266.665375</td>\n",
       "      <td>108.040733</td>\n",
       "      <td>88.131889</td>\n",
       "      <td>160.402039</td>\n",
       "      <td>76.536522</td>\n",
       "      <td>104.970406</td>\n",
       "      <td>185.825699</td>\n",
       "      <td>216.729996</td>\n",
       "      <td>157.115768</td>\n",
       "      <td>94.514893</td>\n",
       "      <td>...</td>\n",
       "      <td>82.619225</td>\n",
       "      <td>156.606064</td>\n",
       "      <td>272.709991</td>\n",
       "      <td>52.562325</td>\n",
       "      <td>86.698547</td>\n",
       "      <td>88.566742</td>\n",
       "      <td>89.608604</td>\n",
       "      <td>127.734856</td>\n",
       "      <td>64.357071</td>\n",
       "      <td>261.889435</td>\n",
       "    </tr>\n",
       "    <tr>\n",
       "      <th>3</th>\n",
       "      <td>261.889435</td>\n",
       "      <td>105.752106</td>\n",
       "      <td>85.650688</td>\n",
       "      <td>157.363800</td>\n",
       "      <td>74.471375</td>\n",
       "      <td>103.442421</td>\n",
       "      <td>181.151154</td>\n",
       "      <td>216.039993</td>\n",
       "      <td>154.377853</td>\n",
       "      <td>92.374626</td>\n",
       "      <td>...</td>\n",
       "      <td>81.804710</td>\n",
       "      <td>152.886887</td>\n",
       "      <td>266.660004</td>\n",
       "      <td>51.162056</td>\n",
       "      <td>84.458275</td>\n",
       "      <td>86.954109</td>\n",
       "      <td>87.141510</td>\n",
       "      <td>125.328857</td>\n",
       "      <td>63.401146</td>\n",
       "      <td>264.041565</td>\n",
       "    </tr>\n",
       "    <tr>\n",
       "      <th>4</th>\n",
       "      <td>264.041565</td>\n",
       "      <td>106.217583</td>\n",
       "      <td>86.732491</td>\n",
       "      <td>157.793655</td>\n",
       "      <td>74.180504</td>\n",
       "      <td>103.481598</td>\n",
       "      <td>182.091919</td>\n",
       "      <td>220.240005</td>\n",
       "      <td>155.126343</td>\n",
       "      <td>92.845879</td>\n",
       "      <td>...</td>\n",
       "      <td>81.647697</td>\n",
       "      <td>153.784958</td>\n",
       "      <td>272.399994</td>\n",
       "      <td>50.828663</td>\n",
       "      <td>84.906326</td>\n",
       "      <td>87.241562</td>\n",
       "      <td>87.484161</td>\n",
       "      <td>125.784309</td>\n",
       "      <td>63.719784</td>\n",
       "      <td>267.795471</td>\n",
       "    </tr>\n",
       "  </tbody>\n",
       "</table>\n",
       "<p>5 rows × 21 columns</p>\n",
       "</div>"
      ],
      "text/plain": [
       "   VFINX(t-1)   TROW(t-1)   AME(t-1)    HON(t-1)   DFS(t-1)    ALL(t-1)  \\\n",
       "0  268.591461  109.611740  90.682549  164.163223  79.028282  105.616859   \n",
       "1  269.957397  110.794846  91.129158  165.296432  78.621056  106.449417   \n",
       "2  266.665375  108.040733  88.131889  160.402039  76.536522  104.970406   \n",
       "3  261.889435  105.752106  85.650688  157.363800  74.471375  103.442421   \n",
       "4  264.041565  106.217583  86.732491  157.793655  74.180504  103.481598   \n",
       "\n",
       "     ACN(t-1)   ANSS(t-1)    IEX(t-1)   DOV(t-1)  ...   FMC(t-1)    ADP(t-1)  \\\n",
       "0  187.550476  217.089996  162.049942  98.304520  ...  84.523018  156.606064   \n",
       "1  188.501068  221.360001  161.399963  97.744904  ...  86.044113  157.572479   \n",
       "2  185.825699  216.729996  157.115768  94.514893  ...  82.619225  156.606064   \n",
       "3  181.151154  216.039993  154.377853  92.374626  ...  81.804710  152.886887   \n",
       "4  182.091919  220.240005  155.126343  92.845879  ...  81.647697  153.784958   \n",
       "\n",
       "    ADBE(t-1)   PFG(t-1)   VFC(t-1)     J(t-1)   TEL(t-1)    KSU(t-1)  \\\n",
       "0  277.540009  54.648434  86.484261  89.724289  90.763832  131.210144   \n",
       "1  276.250000  54.429340  86.679070  90.525650  91.223969  131.695297   \n",
       "2  272.709991  52.562325  86.698547  88.566742  89.608604  127.734856   \n",
       "3  266.660004  51.162056  84.458275  86.954109  87.141510  125.328857   \n",
       "4  272.399994  50.828663  84.906326  87.241562  87.484161  125.784309   \n",
       "\n",
       "    OKE(t-1)       VFINX  \n",
       "0  64.879303  269.957397  \n",
       "1  65.224487  266.665375  \n",
       "2  64.357071  261.889435  \n",
       "3  63.401146  264.041565  \n",
       "4  63.719784  267.795471  \n",
       "\n",
       "[5 rows x 21 columns]"
      ]
     },
     "execution_count": 10,
     "metadata": {},
     "output_type": "execute_result"
    }
   ],
   "source": [
    "data=pandas.read_csv(\"../dataset/predict_data-2019-09-30-2020-09-30.csv\")\n",
    "del data['Date']\n",
    "scaler = MinMaxScaler(feature_range=(0, 1))\n",
    "scaled = scaler.fit_transform(data)\n",
    "data.head()"
   ]
  },
  {
   "cell_type": "markdown",
   "metadata": {},
   "source": [
    "## Series to Supervised"
   ]
  },
  {
   "cell_type": "code",
   "execution_count": 11,
   "metadata": {},
   "outputs": [],
   "source": [
    "def series_to_supervised(data, n_in=1, n_out=1, dropnan=True):\n",
    "\tn_vars = 1 if type(data) is list else data.shape[1]\n",
    "\tdf = pandas.DataFrame(data)\n",
    "\tcols, names = list(), list()\n",
    "\tfor i in range(n_in, 0, -1):\n",
    "\t\tcols.append(df.shift(i))\n",
    "\t\tnames += [('var%d(t-%d)' % (j+1, i)) for j in range(n_vars)]\n",
    "        \n",
    "\tfor i in range(0, n_out):\n",
    "\t\tcols.append(df.shift(-i))\n",
    "\t\tif i == 0:\n",
    "\t\t\tnames += [('var%d(t)' % (j+1)) for j in range(n_vars)]\n",
    "\t\telse:\n",
    "\t\t\tnames += [('var%d(t+%d)' % (j+1, i)) for j in range(n_vars)]\n",
    "\t# put it all together\n",
    "\tagg = pandas.concat(cols, axis=1)\n",
    "\tagg.columns = names\n",
    "    \n",
    "\t# drop rows with NaN values\n",
    "\tif dropnan:\n",
    "\t\tagg.dropna(inplace=True)\n",
    "\treturn agg"
   ]
  },
  {
   "cell_type": "code",
   "execution_count": 12,
   "metadata": {},
   "outputs": [
    {
     "data": {
      "text/html": [
       "<div>\n",
       "<style scoped>\n",
       "    .dataframe tbody tr th:only-of-type {\n",
       "        vertical-align: middle;\n",
       "    }\n",
       "\n",
       "    .dataframe tbody tr th {\n",
       "        vertical-align: top;\n",
       "    }\n",
       "\n",
       "    .dataframe thead th {\n",
       "        text-align: right;\n",
       "    }\n",
       "</style>\n",
       "<table border=\"1\" class=\"dataframe\">\n",
       "  <thead>\n",
       "    <tr style=\"text-align: right;\">\n",
       "      <th></th>\n",
       "      <th>var1(t-1)</th>\n",
       "      <th>var2(t-1)</th>\n",
       "      <th>var3(t-1)</th>\n",
       "      <th>var4(t-1)</th>\n",
       "      <th>var5(t-1)</th>\n",
       "      <th>var6(t-1)</th>\n",
       "      <th>var7(t-1)</th>\n",
       "      <th>var8(t-1)</th>\n",
       "      <th>var9(t-1)</th>\n",
       "      <th>var10(t-1)</th>\n",
       "      <th>...</th>\n",
       "      <th>var12(t)</th>\n",
       "      <th>var13(t)</th>\n",
       "      <th>var14(t)</th>\n",
       "      <th>var15(t)</th>\n",
       "      <th>var16(t)</th>\n",
       "      <th>var17(t)</th>\n",
       "      <th>var18(t)</th>\n",
       "      <th>var19(t)</th>\n",
       "      <th>var20(t)</th>\n",
       "      <th>var21(t)</th>\n",
       "    </tr>\n",
       "  </thead>\n",
       "  <tbody>\n",
       "    <tr>\n",
       "      <th>1</th>\n",
       "      <td>0.509917</td>\n",
       "      <td>0.454664</td>\n",
       "      <td>0.728099</td>\n",
       "      <td>0.796706</td>\n",
       "      <td>0.908365</td>\n",
       "      <td>0.649494</td>\n",
       "      <td>0.437259</td>\n",
       "      <td>0.086430</td>\n",
       "      <td>0.671927</td>\n",
       "      <td>0.627187</td>\n",
       "      <td>...</td>\n",
       "      <td>0.506971</td>\n",
       "      <td>0.710394</td>\n",
       "      <td>0.055590</td>\n",
       "      <td>0.984358</td>\n",
       "      <td>0.782794</td>\n",
       "      <td>0.688615</td>\n",
       "      <td>0.784424</td>\n",
       "      <td>0.339033</td>\n",
       "      <td>0.908498</td>\n",
       "      <td>0.494561</td>\n",
       "    </tr>\n",
       "    <tr>\n",
       "      <th>2</th>\n",
       "      <td>0.520807</td>\n",
       "      <td>0.475806</td>\n",
       "      <td>0.738046</td>\n",
       "      <td>0.811352</td>\n",
       "      <td>0.901549</td>\n",
       "      <td>0.665775</td>\n",
       "      <td>0.446378</td>\n",
       "      <td>0.115650</td>\n",
       "      <td>0.663030</td>\n",
       "      <td>0.616726</td>\n",
       "      <td>...</td>\n",
       "      <td>0.442862</td>\n",
       "      <td>0.696624</td>\n",
       "      <td>0.042609</td>\n",
       "      <td>0.924885</td>\n",
       "      <td>0.783163</td>\n",
       "      <td>0.640336</td>\n",
       "      <td>0.751714</td>\n",
       "      <td>0.296583</td>\n",
       "      <td>0.893127</td>\n",
       "      <td>0.456484</td>\n",
       "    </tr>\n",
       "    <tr>\n",
       "      <th>3</th>\n",
       "      <td>0.494561</td>\n",
       "      <td>0.426592</td>\n",
       "      <td>0.671292</td>\n",
       "      <td>0.748094</td>\n",
       "      <td>0.866661</td>\n",
       "      <td>0.636853</td>\n",
       "      <td>0.420714</td>\n",
       "      <td>0.083966</td>\n",
       "      <td>0.604391</td>\n",
       "      <td>0.556348</td>\n",
       "      <td>...</td>\n",
       "      <td>0.427615</td>\n",
       "      <td>0.643631</td>\n",
       "      <td>0.020425</td>\n",
       "      <td>0.880281</td>\n",
       "      <td>0.740736</td>\n",
       "      <td>0.600592</td>\n",
       "      <td>0.701756</td>\n",
       "      <td>0.270795</td>\n",
       "      <td>0.876187</td>\n",
       "      <td>0.473642</td>\n",
       "    </tr>\n",
       "    <tr>\n",
       "      <th>4</th>\n",
       "      <td>0.456484</td>\n",
       "      <td>0.385696</td>\n",
       "      <td>0.616031</td>\n",
       "      <td>0.708827</td>\n",
       "      <td>0.832097</td>\n",
       "      <td>0.606974</td>\n",
       "      <td>0.375874</td>\n",
       "      <td>0.079244</td>\n",
       "      <td>0.566917</td>\n",
       "      <td>0.516341</td>\n",
       "      <td>...</td>\n",
       "      <td>0.424676</td>\n",
       "      <td>0.656428</td>\n",
       "      <td>0.041473</td>\n",
       "      <td>0.869661</td>\n",
       "      <td>0.749221</td>\n",
       "      <td>0.607676</td>\n",
       "      <td>0.708695</td>\n",
       "      <td>0.275677</td>\n",
       "      <td>0.881834</td>\n",
       "      <td>0.503571</td>\n",
       "    </tr>\n",
       "    <tr>\n",
       "      <th>5</th>\n",
       "      <td>0.473642</td>\n",
       "      <td>0.394013</td>\n",
       "      <td>0.640125</td>\n",
       "      <td>0.714382</td>\n",
       "      <td>0.827228</td>\n",
       "      <td>0.607740</td>\n",
       "      <td>0.384898</td>\n",
       "      <td>0.107986</td>\n",
       "      <td>0.577162</td>\n",
       "      <td>0.525150</td>\n",
       "      <td>...</td>\n",
       "      <td>0.406123</td>\n",
       "      <td>0.679099</td>\n",
       "      <td>0.058194</td>\n",
       "      <td>0.911838</td>\n",
       "      <td>0.777260</td>\n",
       "      <td>0.651896</td>\n",
       "      <td>0.719202</td>\n",
       "      <td>0.283742</td>\n",
       "      <td>0.882461</td>\n",
       "      <td>0.494012</td>\n",
       "    </tr>\n",
       "  </tbody>\n",
       "</table>\n",
       "<p>5 rows × 42 columns</p>\n",
       "</div>"
      ],
      "text/plain": [
       "   var1(t-1)  var2(t-1)  var3(t-1)  var4(t-1)  var5(t-1)  var6(t-1)  \\\n",
       "1   0.509917   0.454664   0.728099   0.796706   0.908365   0.649494   \n",
       "2   0.520807   0.475806   0.738046   0.811352   0.901549   0.665775   \n",
       "3   0.494561   0.426592   0.671292   0.748094   0.866661   0.636853   \n",
       "4   0.456484   0.385696   0.616031   0.708827   0.832097   0.606974   \n",
       "5   0.473642   0.394013   0.640125   0.714382   0.827228   0.607740   \n",
       "\n",
       "   var7(t-1)  var8(t-1)  var9(t-1)  var10(t-1)  ...  var12(t)  var13(t)  \\\n",
       "1   0.437259   0.086430   0.671927    0.627187  ...  0.506971  0.710394   \n",
       "2   0.446378   0.115650   0.663030    0.616726  ...  0.442862  0.696624   \n",
       "3   0.420714   0.083966   0.604391    0.556348  ...  0.427615  0.643631   \n",
       "4   0.375874   0.079244   0.566917    0.516341  ...  0.424676  0.656428   \n",
       "5   0.384898   0.107986   0.577162    0.525150  ...  0.406123  0.679099   \n",
       "\n",
       "   var14(t)  var15(t)  var16(t)  var17(t)  var18(t)  var19(t)  var20(t)  \\\n",
       "1  0.055590  0.984358  0.782794  0.688615  0.784424  0.339033  0.908498   \n",
       "2  0.042609  0.924885  0.783163  0.640336  0.751714  0.296583  0.893127   \n",
       "3  0.020425  0.880281  0.740736  0.600592  0.701756  0.270795  0.876187   \n",
       "4  0.041473  0.869661  0.749221  0.607676  0.708695  0.275677  0.881834   \n",
       "5  0.058194  0.911838  0.777260  0.651896  0.719202  0.283742  0.882461   \n",
       "\n",
       "   var21(t)  \n",
       "1  0.494561  \n",
       "2  0.456484  \n",
       "3  0.473642  \n",
       "4  0.503571  \n",
       "5  0.494012  \n",
       "\n",
       "[5 rows x 42 columns]"
      ]
     },
     "execution_count": 12,
     "metadata": {},
     "output_type": "execute_result"
    }
   ],
   "source": [
    "reframed = series_to_supervised(scaled, 1, 1)\n",
    "reframed.head()"
   ]
  },
  {
   "cell_type": "code",
   "execution_count": 13,
   "metadata": {},
   "outputs": [
    {
     "data": {
      "text/html": [
       "<div>\n",
       "<style scoped>\n",
       "    .dataframe tbody tr th:only-of-type {\n",
       "        vertical-align: middle;\n",
       "    }\n",
       "\n",
       "    .dataframe tbody tr th {\n",
       "        vertical-align: top;\n",
       "    }\n",
       "\n",
       "    .dataframe thead th {\n",
       "        text-align: right;\n",
       "    }\n",
       "</style>\n",
       "<table border=\"1\" class=\"dataframe\">\n",
       "  <thead>\n",
       "    <tr style=\"text-align: right;\">\n",
       "      <th></th>\n",
       "      <th>var1(t-1)</th>\n",
       "      <th>var2(t-1)</th>\n",
       "      <th>var3(t-1)</th>\n",
       "      <th>var4(t-1)</th>\n",
       "      <th>var5(t-1)</th>\n",
       "      <th>var6(t-1)</th>\n",
       "      <th>var7(t-1)</th>\n",
       "      <th>var8(t-1)</th>\n",
       "      <th>var9(t-1)</th>\n",
       "      <th>var10(t-1)</th>\n",
       "      <th>...</th>\n",
       "      <th>var13(t-1)</th>\n",
       "      <th>var14(t-1)</th>\n",
       "      <th>var15(t-1)</th>\n",
       "      <th>var16(t-1)</th>\n",
       "      <th>var17(t-1)</th>\n",
       "      <th>var18(t-1)</th>\n",
       "      <th>var19(t-1)</th>\n",
       "      <th>var20(t-1)</th>\n",
       "      <th>var21(t-1)</th>\n",
       "      <th>var1(t)</th>\n",
       "    </tr>\n",
       "  </thead>\n",
       "  <tbody>\n",
       "    <tr>\n",
       "      <th>1</th>\n",
       "      <td>0.509917</td>\n",
       "      <td>0.454664</td>\n",
       "      <td>0.728099</td>\n",
       "      <td>0.796706</td>\n",
       "      <td>0.908365</td>\n",
       "      <td>0.649494</td>\n",
       "      <td>0.437259</td>\n",
       "      <td>0.086430</td>\n",
       "      <td>0.671927</td>\n",
       "      <td>0.627187</td>\n",
       "      <td>...</td>\n",
       "      <td>0.696624</td>\n",
       "      <td>0.060321</td>\n",
       "      <td>0.991337</td>\n",
       "      <td>0.779105</td>\n",
       "      <td>0.668865</td>\n",
       "      <td>0.775106</td>\n",
       "      <td>0.333833</td>\n",
       "      <td>0.902381</td>\n",
       "      <td>0.520807</td>\n",
       "      <td>0.520807</td>\n",
       "    </tr>\n",
       "    <tr>\n",
       "      <th>2</th>\n",
       "      <td>0.520807</td>\n",
       "      <td>0.475806</td>\n",
       "      <td>0.738046</td>\n",
       "      <td>0.811352</td>\n",
       "      <td>0.901549</td>\n",
       "      <td>0.665775</td>\n",
       "      <td>0.446378</td>\n",
       "      <td>0.115650</td>\n",
       "      <td>0.663030</td>\n",
       "      <td>0.616726</td>\n",
       "      <td>...</td>\n",
       "      <td>0.710394</td>\n",
       "      <td>0.055590</td>\n",
       "      <td>0.984358</td>\n",
       "      <td>0.782794</td>\n",
       "      <td>0.688615</td>\n",
       "      <td>0.784424</td>\n",
       "      <td>0.339033</td>\n",
       "      <td>0.908498</td>\n",
       "      <td>0.494561</td>\n",
       "      <td>0.494561</td>\n",
       "    </tr>\n",
       "    <tr>\n",
       "      <th>3</th>\n",
       "      <td>0.494561</td>\n",
       "      <td>0.426592</td>\n",
       "      <td>0.671292</td>\n",
       "      <td>0.748094</td>\n",
       "      <td>0.866661</td>\n",
       "      <td>0.636853</td>\n",
       "      <td>0.420714</td>\n",
       "      <td>0.083966</td>\n",
       "      <td>0.604391</td>\n",
       "      <td>0.556348</td>\n",
       "      <td>...</td>\n",
       "      <td>0.696624</td>\n",
       "      <td>0.042609</td>\n",
       "      <td>0.924885</td>\n",
       "      <td>0.783163</td>\n",
       "      <td>0.640336</td>\n",
       "      <td>0.751714</td>\n",
       "      <td>0.296583</td>\n",
       "      <td>0.893127</td>\n",
       "      <td>0.456484</td>\n",
       "      <td>0.456484</td>\n",
       "    </tr>\n",
       "    <tr>\n",
       "      <th>4</th>\n",
       "      <td>0.456484</td>\n",
       "      <td>0.385696</td>\n",
       "      <td>0.616031</td>\n",
       "      <td>0.708827</td>\n",
       "      <td>0.832097</td>\n",
       "      <td>0.606974</td>\n",
       "      <td>0.375874</td>\n",
       "      <td>0.079244</td>\n",
       "      <td>0.566917</td>\n",
       "      <td>0.516341</td>\n",
       "      <td>...</td>\n",
       "      <td>0.643631</td>\n",
       "      <td>0.020425</td>\n",
       "      <td>0.880281</td>\n",
       "      <td>0.740736</td>\n",
       "      <td>0.600592</td>\n",
       "      <td>0.701756</td>\n",
       "      <td>0.270795</td>\n",
       "      <td>0.876187</td>\n",
       "      <td>0.473642</td>\n",
       "      <td>0.473642</td>\n",
       "    </tr>\n",
       "    <tr>\n",
       "      <th>5</th>\n",
       "      <td>0.473642</td>\n",
       "      <td>0.394013</td>\n",
       "      <td>0.640125</td>\n",
       "      <td>0.714382</td>\n",
       "      <td>0.827228</td>\n",
       "      <td>0.607740</td>\n",
       "      <td>0.384898</td>\n",
       "      <td>0.107986</td>\n",
       "      <td>0.577162</td>\n",
       "      <td>0.525150</td>\n",
       "      <td>...</td>\n",
       "      <td>0.656428</td>\n",
       "      <td>0.041473</td>\n",
       "      <td>0.869661</td>\n",
       "      <td>0.749221</td>\n",
       "      <td>0.607676</td>\n",
       "      <td>0.708695</td>\n",
       "      <td>0.275677</td>\n",
       "      <td>0.881834</td>\n",
       "      <td>0.503571</td>\n",
       "      <td>0.503571</td>\n",
       "    </tr>\n",
       "  </tbody>\n",
       "</table>\n",
       "<p>5 rows × 22 columns</p>\n",
       "</div>"
      ],
      "text/plain": [
       "   var1(t-1)  var2(t-1)  var3(t-1)  var4(t-1)  var5(t-1)  var6(t-1)  \\\n",
       "1   0.509917   0.454664   0.728099   0.796706   0.908365   0.649494   \n",
       "2   0.520807   0.475806   0.738046   0.811352   0.901549   0.665775   \n",
       "3   0.494561   0.426592   0.671292   0.748094   0.866661   0.636853   \n",
       "4   0.456484   0.385696   0.616031   0.708827   0.832097   0.606974   \n",
       "5   0.473642   0.394013   0.640125   0.714382   0.827228   0.607740   \n",
       "\n",
       "   var7(t-1)  var8(t-1)  var9(t-1)  var10(t-1)  ...  var13(t-1)  var14(t-1)  \\\n",
       "1   0.437259   0.086430   0.671927    0.627187  ...    0.696624    0.060321   \n",
       "2   0.446378   0.115650   0.663030    0.616726  ...    0.710394    0.055590   \n",
       "3   0.420714   0.083966   0.604391    0.556348  ...    0.696624    0.042609   \n",
       "4   0.375874   0.079244   0.566917    0.516341  ...    0.643631    0.020425   \n",
       "5   0.384898   0.107986   0.577162    0.525150  ...    0.656428    0.041473   \n",
       "\n",
       "   var15(t-1)  var16(t-1)  var17(t-1)  var18(t-1)  var19(t-1)  var20(t-1)  \\\n",
       "1    0.991337    0.779105    0.668865    0.775106    0.333833    0.902381   \n",
       "2    0.984358    0.782794    0.688615    0.784424    0.339033    0.908498   \n",
       "3    0.924885    0.783163    0.640336    0.751714    0.296583    0.893127   \n",
       "4    0.880281    0.740736    0.600592    0.701756    0.270795    0.876187   \n",
       "5    0.869661    0.749221    0.607676    0.708695    0.275677    0.881834   \n",
       "\n",
       "   var21(t-1)   var1(t)  \n",
       "1    0.520807  0.520807  \n",
       "2    0.494561  0.494561  \n",
       "3    0.456484  0.456484  \n",
       "4    0.473642  0.473642  \n",
       "5    0.503571  0.503571  \n",
       "\n",
       "[5 rows x 22 columns]"
      ]
     },
     "execution_count": 13,
     "metadata": {},
     "output_type": "execute_result"
    }
   ],
   "source": [
    "pred = {'VFINX': 21}\n",
    "reframed = pandas.concat([reframed.iloc[:,0:21],reframed.iloc[:,pred['VFINX']]],axis=1)\n",
    "reframed.head()"
   ]
  },
  {
   "cell_type": "markdown",
   "metadata": {},
   "source": [
    "## Data Split"
   ]
  },
  {
   "cell_type": "code",
   "execution_count": 14,
   "metadata": {},
   "outputs": [
    {
     "data": {
      "text/plain": [
       "((200, 21), (200,), (50, 21), (50,))"
      ]
     },
     "execution_count": 14,
     "metadata": {},
     "output_type": "execute_result"
    }
   ],
   "source": [
    "train = reframed.values[:200,:]\n",
    "test = reframed.values[200:250,:]\n",
    "train_X, train_y = train[:, :-1], train[:, -1]\n",
    "test_X , test_y  = test[:, :-1], test[:, -1]\n",
    "train_X.shape, train_y.shape, test_X.shape, test_y.shape"
   ]
  },
  {
   "cell_type": "markdown",
   "metadata": {},
   "source": [
    "## LSTM"
   ]
  },
  {
   "cell_type": "code",
   "execution_count": 15,
   "metadata": {},
   "outputs": [
    {
     "name": "stdout",
     "output_type": "stream",
     "text": [
      "Model: \"sequential\"\n",
      "_________________________________________________________________\n",
      "Layer (type)                 Output Shape              Param #   \n",
      "=================================================================\n",
      "lstm (LSTM)                  (None, 50)                14400     \n",
      "_________________________________________________________________\n",
      "dense (Dense)                (None, 1)                 51        \n",
      "=================================================================\n",
      "Total params: 14,451\n",
      "Trainable params: 14,451\n",
      "Non-trainable params: 0\n",
      "_________________________________________________________________\n"
     ]
    }
   ],
   "source": [
    "train_X = train_X.reshape((train_X.shape[0], 1, train_X.shape[1]))\n",
    "test_X  = test_X.reshape((test_X.shape[0], 1, test_X.shape[1]))\n",
    "train_X.shape, train_y.shape, test_X.shape, test_y.shape\n",
    "\n",
    "import keras\n",
    "from keras import layers\n",
    "\n",
    "model = keras.models.Sequential()\n",
    "model.add(layers.LSTM(50, input_shape=(train_X.shape[1], train_X.shape[2])))\n",
    "model.add(layers.Dense(1))\n",
    "model.compile(loss='mse', optimizer='adam')\n",
    "model.summary()"
   ]
  },
  {
   "cell_type": "markdown",
   "metadata": {},
   "source": [
    "## Training"
   ]
  },
  {
   "cell_type": "code",
   "execution_count": 16,
   "metadata": {},
   "outputs": [
    {
     "name": "stdout",
     "output_type": "stream",
     "text": [
      "Epoch 1/100\n",
      "3/3 [==============================] - 1s 266ms/step - loss: 0.3608 - val_loss: 0.4901\n",
      "Epoch 2/100\n",
      "3/3 [==============================] - 0s 27ms/step - loss: 0.2418 - val_loss: 0.3356\n",
      "Epoch 3/100\n",
      "3/3 [==============================] - 0s 6ms/step - loss: 0.1494 - val_loss: 0.2137\n",
      "Epoch 4/100\n",
      "3/3 [==============================] - 0s 6ms/step - loss: 0.0816 - val_loss: 0.1229\n",
      "Epoch 5/100\n",
      "3/3 [==============================] - 0s 31ms/step - loss: 0.0367 - val_loss: 0.0610\n",
      "Epoch 6/100\n",
      "3/3 [==============================] - 0s 30ms/step - loss: 0.0119 - val_loss: 0.0243\n",
      "Epoch 7/100\n",
      "3/3 [==============================] - 0s 6ms/step - loss: 0.0032 - val_loss: 0.0071\n",
      "Epoch 8/100\n",
      "3/3 [==============================] - 0s 6ms/step - loss: 0.0049 - val_loss: 0.0021\n",
      "Epoch 9/100\n",
      "3/3 [==============================] - 0s 30ms/step - loss: 0.0105 - val_loss: 0.0019\n",
      "Epoch 10/100\n",
      "3/3 [==============================] - 0s 28ms/step - loss: 0.0146 - val_loss: 0.0021\n",
      "Epoch 11/100\n",
      "3/3 [==============================] - 0s 6ms/step - loss: 0.0150 - val_loss: 0.0018\n",
      "Epoch 12/100\n",
      "3/3 [==============================] - 0s 31ms/step - loss: 0.0125 - val_loss: 0.0020\n",
      "Epoch 13/100\n",
      "3/3 [==============================] - 0s 30ms/step - loss: 0.0090 - val_loss: 0.0037\n",
      "Epoch 14/100\n",
      "3/3 [==============================] - 0s 29ms/step - loss: 0.0061 - val_loss: 0.0070\n",
      "Epoch 15/100\n",
      "3/3 [==============================] - 0s 6ms/step - loss: 0.0044 - val_loss: 0.0111\n",
      "Epoch 16/100\n",
      "3/3 [==============================] - 0s 30ms/step - loss: 0.0038 - val_loss: 0.0147\n",
      "Epoch 17/100\n",
      "3/3 [==============================] - 0s 29ms/step - loss: 0.0038 - val_loss: 0.0170\n",
      "Epoch 18/100\n",
      "3/3 [==============================] - 0s 6ms/step - loss: 0.0040 - val_loss: 0.0178\n",
      "Epoch 19/100\n",
      "3/3 [==============================] - 0s 6ms/step - loss: 0.0039 - val_loss: 0.0170\n",
      "Epoch 20/100\n",
      "3/3 [==============================] - 0s 30ms/step - loss: 0.0037 - val_loss: 0.0152\n",
      "Epoch 21/100\n",
      "3/3 [==============================] - 0s 28ms/step - loss: 0.0034 - val_loss: 0.0129\n",
      "Epoch 22/100\n",
      "3/3 [==============================] - 0s 6ms/step - loss: 0.0032 - val_loss: 0.0108\n",
      "Epoch 23/100\n",
      "3/3 [==============================] - 0s 30ms/step - loss: 0.0031 - val_loss: 0.0090\n",
      "Epoch 24/100\n",
      "3/3 [==============================] - 0s 30ms/step - loss: 0.0030 - val_loss: 0.0076\n",
      "Epoch 25/100\n",
      "3/3 [==============================] - 0s 6ms/step - loss: 0.0031 - val_loss: 0.0068\n",
      "Epoch 26/100\n",
      "3/3 [==============================] - 0s 6ms/step - loss: 0.0031 - val_loss: 0.0064\n",
      "Epoch 27/100\n",
      "3/3 [==============================] - 0s 29ms/step - loss: 0.0031 - val_loss: 0.0062\n",
      "Epoch 28/100\n",
      "3/3 [==============================] - 0s 29ms/step - loss: 0.0031 - val_loss: 0.0063\n",
      "Epoch 29/100\n",
      "3/3 [==============================] - 0s 6ms/step - loss: 0.0030 - val_loss: 0.0065\n",
      "Epoch 30/100\n",
      "3/3 [==============================] - 0s 31ms/step - loss: 0.0029 - val_loss: 0.0066\n",
      "Epoch 31/100\n",
      "3/3 [==============================] - 0s 30ms/step - loss: 0.0028 - val_loss: 0.0067\n",
      "Epoch 32/100\n",
      "3/3 [==============================] - 0s 6ms/step - loss: 0.0028 - val_loss: 0.0067\n",
      "Epoch 33/100\n",
      "3/3 [==============================] - 0s 28ms/step - loss: 0.0027 - val_loss: 0.0065\n",
      "Epoch 34/100\n",
      "3/3 [==============================] - 0s 30ms/step - loss: 0.0027 - val_loss: 0.0062\n",
      "Epoch 35/100\n",
      "3/3 [==============================] - 0s 29ms/step - loss: 0.0026 - val_loss: 0.0059\n",
      "Epoch 36/100\n",
      "3/3 [==============================] - 0s 6ms/step - loss: 0.0026 - val_loss: 0.0055\n",
      "Epoch 37/100\n",
      "3/3 [==============================] - 0s 30ms/step - loss: 0.0026 - val_loss: 0.0051\n",
      "Epoch 38/100\n",
      "3/3 [==============================] - 0s 30ms/step - loss: 0.0026 - val_loss: 0.0048\n",
      "Epoch 39/100\n",
      "3/3 [==============================] - 0s 6ms/step - loss: 0.0025 - val_loss: 0.0046\n",
      "Epoch 40/100\n",
      "3/3 [==============================] - 0s 6ms/step - loss: 0.0025 - val_loss: 0.0044\n",
      "Epoch 41/100\n",
      "3/3 [==============================] - 0s 31ms/step - loss: 0.0025 - val_loss: 0.0042\n",
      "Epoch 42/100\n",
      "3/3 [==============================] - 0s 27ms/step - loss: 0.0025 - val_loss: 0.0041\n",
      "Epoch 43/100\n",
      "3/3 [==============================] - 0s 6ms/step - loss: 0.0024 - val_loss: 0.0040\n",
      "Epoch 44/100\n",
      "3/3 [==============================] - 0s 30ms/step - loss: 0.0024 - val_loss: 0.0038\n",
      "Epoch 45/100\n",
      "3/3 [==============================] - 0s 30ms/step - loss: 0.0024 - val_loss: 0.0037\n",
      "Epoch 46/100\n",
      "3/3 [==============================] - 0s 29ms/step - loss: 0.0024 - val_loss: 0.0036\n",
      "Epoch 47/100\n",
      "3/3 [==============================] - 0s 6ms/step - loss: 0.0023 - val_loss: 0.0034\n",
      "Epoch 48/100\n",
      "3/3 [==============================] - 0s 31ms/step - loss: 0.0023 - val_loss: 0.0033\n",
      "Epoch 49/100\n",
      "3/3 [==============================] - 0s 30ms/step - loss: 0.0023 - val_loss: 0.0031\n",
      "Epoch 50/100\n",
      "3/3 [==============================] - 0s 6ms/step - loss: 0.0023 - val_loss: 0.0030\n",
      "Epoch 51/100\n",
      "3/3 [==============================] - 0s 6ms/step - loss: 0.0023 - val_loss: 0.0029\n",
      "Epoch 52/100\n",
      "3/3 [==============================] - 0s 31ms/step - loss: 0.0022 - val_loss: 0.0028\n",
      "Epoch 53/100\n",
      "3/3 [==============================] - 0s 28ms/step - loss: 0.0022 - val_loss: 0.0027\n",
      "Epoch 54/100\n",
      "3/3 [==============================] - 0s 6ms/step - loss: 0.0022 - val_loss: 0.0026\n",
      "Epoch 55/100\n",
      "3/3 [==============================] - 0s 30ms/step - loss: 0.0022 - val_loss: 0.0025\n",
      "Epoch 56/100\n",
      "3/3 [==============================] - 0s 29ms/step - loss: 0.0022 - val_loss: 0.0024\n",
      "Epoch 57/100\n",
      "3/3 [==============================] - 0s 6ms/step - loss: 0.0022 - val_loss: 0.0023\n",
      "Epoch 58/100\n",
      "3/3 [==============================] - 0s 30ms/step - loss: 0.0022 - val_loss: 0.0022\n",
      "Epoch 59/100\n",
      "3/3 [==============================] - 0s 30ms/step - loss: 0.0021 - val_loss: 0.0022\n",
      "Epoch 60/100\n",
      "3/3 [==============================] - 0s 6ms/step - loss: 0.0021 - val_loss: 0.0021\n",
      "Epoch 61/100\n",
      "3/3 [==============================] - 0s 28ms/step - loss: 0.0021 - val_loss: 0.0020\n",
      "Epoch 62/100\n",
      "3/3 [==============================] - 0s 30ms/step - loss: 0.0021 - val_loss: 0.0020\n",
      "Epoch 63/100\n",
      "3/3 [==============================] - 0s 6ms/step - loss: 0.0021 - val_loss: 0.0019\n",
      "Epoch 64/100\n",
      "3/3 [==============================] - 0s 7ms/step - loss: 0.0021 - val_loss: 0.0019\n",
      "Epoch 65/100\n",
      "3/3 [==============================] - 0s 30ms/step - loss: 0.0021 - val_loss: 0.0018\n",
      "Epoch 66/100\n",
      "3/3 [==============================] - 0s 28ms/step - loss: 0.0021 - val_loss: 0.0018\n",
      "Epoch 67/100\n",
      "3/3 [==============================] - 0s 6ms/step - loss: 0.0021 - val_loss: 0.0017\n",
      "Epoch 68/100\n",
      "3/3 [==============================] - 0s 30ms/step - loss: 0.0020 - val_loss: 0.0017\n",
      "Epoch 69/100\n",
      "3/3 [==============================] - 0s 28ms/step - loss: 0.0020 - val_loss: 0.0017\n",
      "Epoch 70/100\n",
      "3/3 [==============================] - 0s 6ms/step - loss: 0.0020 - val_loss: 0.0016\n",
      "Epoch 71/100\n",
      "3/3 [==============================] - 0s 30ms/step - loss: 0.0020 - val_loss: 0.0016\n",
      "Epoch 72/100\n",
      "3/3 [==============================] - 0s 29ms/step - loss: 0.0020 - val_loss: 0.0016\n",
      "Epoch 73/100\n",
      "3/3 [==============================] - 0s 6ms/step - loss: 0.0020 - val_loss: 0.0015\n",
      "Epoch 74/100\n",
      "3/3 [==============================] - 0s 6ms/step - loss: 0.0020 - val_loss: 0.0015\n",
      "Epoch 75/100\n",
      "3/3 [==============================] - 0s 30ms/step - loss: 0.0020 - val_loss: 0.0015\n",
      "Epoch 76/100\n",
      "3/3 [==============================] - 0s 6ms/step - loss: 0.0020 - val_loss: 0.0015\n",
      "Epoch 77/100\n",
      "3/3 [==============================] - 0s 6ms/step - loss: 0.0020 - val_loss: 0.0015\n",
      "Epoch 78/100\n",
      "3/3 [==============================] - 0s 31ms/step - loss: 0.0020 - val_loss: 0.0014\n",
      "Epoch 79/100\n",
      "3/3 [==============================] - 0s 6ms/step - loss: 0.0020 - val_loss: 0.0014\n",
      "Epoch 80/100\n",
      "3/3 [==============================] - 0s 6ms/step - loss: 0.0020 - val_loss: 0.0014\n",
      "Epoch 81/100\n",
      "3/3 [==============================] - 0s 30ms/step - loss: 0.0020 - val_loss: 0.0014\n",
      "Epoch 82/100\n",
      "3/3 [==============================] - 0s 28ms/step - loss: 0.0019 - val_loss: 0.0014\n",
      "Epoch 83/100\n",
      "3/3 [==============================] - 0s 6ms/step - loss: 0.0019 - val_loss: 0.0014\n",
      "Epoch 84/100\n",
      "3/3 [==============================] - 0s 30ms/step - loss: 0.0019 - val_loss: 0.0014\n",
      "Epoch 85/100\n",
      "3/3 [==============================] - 0s 30ms/step - loss: 0.0019 - val_loss: 0.0014\n",
      "Epoch 86/100\n",
      "3/3 [==============================] - 0s 6ms/step - loss: 0.0019 - val_loss: 0.0014\n",
      "Epoch 87/100\n",
      "3/3 [==============================] - 0s 28ms/step - loss: 0.0019 - val_loss: 0.0014\n",
      "Epoch 88/100\n",
      "3/3 [==============================] - 0s 31ms/step - loss: 0.0019 - val_loss: 0.0014\n",
      "Epoch 89/100\n",
      "3/3 [==============================] - 0s 28ms/step - loss: 0.0019 - val_loss: 0.0014\n",
      "Epoch 90/100\n",
      "3/3 [==============================] - 0s 6ms/step - loss: 0.0019 - val_loss: 0.0014\n",
      "Epoch 91/100\n",
      "3/3 [==============================] - 0s 30ms/step - loss: 0.0019 - val_loss: 0.0014\n",
      "Epoch 92/100\n",
      "3/3 [==============================] - 0s 29ms/step - loss: 0.0019 - val_loss: 0.0014\n",
      "Epoch 93/100\n",
      "3/3 [==============================] - 0s 7ms/step - loss: 0.0019 - val_loss: 0.0014\n",
      "Epoch 94/100\n",
      "3/3 [==============================] - 0s 29ms/step - loss: 0.0019 - val_loss: 0.0014\n",
      "Epoch 95/100\n",
      "3/3 [==============================] - 0s 30ms/step - loss: 0.0019 - val_loss: 0.0014\n",
      "Epoch 96/100\n",
      "3/3 [==============================] - 0s 6ms/step - loss: 0.0019 - val_loss: 0.0014\n",
      "Epoch 97/100\n",
      "3/3 [==============================] - 0s 5ms/step - loss: 0.0019 - val_loss: 0.0014\n",
      "Epoch 98/100\n",
      "3/3 [==============================] - 0s 31ms/step - loss: 0.0019 - val_loss: 0.0014\n",
      "Epoch 99/100\n",
      "3/3 [==============================] - 0s 6ms/step - loss: 0.0019 - val_loss: 0.0014\n",
      "Epoch 100/100\n",
      "3/3 [==============================] - 0s 27ms/step - loss: 0.0019 - val_loss: 0.0014\n"
     ]
    }
   ],
   "source": [
    "history = model.fit(train_X, train_y, epochs=100, \n",
    "                    batch_size=72, validation_data=(test_X, test_y), \n",
    "                    verbose=1, shuffle=False)"
   ]
  },
  {
   "cell_type": "markdown",
   "metadata": {},
   "source": [
    "## Plot Loss Curve"
   ]
  },
  {
   "cell_type": "code",
   "execution_count": 17,
   "metadata": {
    "scrolled": true
   },
   "outputs": [
    {
     "name": "stdout",
     "output_type": "stream",
     "text": [
      "Populating the interactive namespace from numpy and matplotlib\n"
     ]
    },
    {
     "name": "stderr",
     "output_type": "stream",
     "text": [
      "/opt/conda/lib/python3.6/site-packages/IPython/core/magics/pylab.py:160: UserWarning: pylab import has clobbered these variables: ['test']\n",
      "`%matplotlib` prevents importing * from pylab and numpy\n",
      "  \"\\n`%matplotlib` prevents importing * from pylab and numpy\"\n"
     ]
    },
    {
     "data": {
      "image/png": "[encoded data removed]",
      "text/plain": [
       "<Figure size 432x288 with 1 Axes>"
      ]
     },
     "metadata": {
      "needs_background": "light"
     },
     "output_type": "display_data"
    }
   ],
   "source": [
    "%pylab inline\n",
    "from matplotlib import pyplot\n",
    "pyplot.plot(history.history['loss'], label='train')\n",
    "pyplot.plot(history.history['val_loss'], label='test')\n",
    "pyplot.legend()\n",
    "pyplot.show()"
   ]
  },
  {
   "cell_type": "markdown",
   "metadata": {},
   "source": [
    "## Model Predict"
   ]
  },
  {
   "cell_type": "code",
   "execution_count": 18,
   "metadata": {},
   "outputs": [
    {
     "data": {
      "text/plain": [
       "((50, 1), (50, 21))"
      ]
     },
     "execution_count": 18,
     "metadata": {},
     "output_type": "execute_result"
    }
   ],
   "source": [
    "yhat = model.predict(test_X)\n",
    "test_X = test_X.reshape((test_X.shape[0], test_X.shape[2]))\n",
    "yhat.shape, test_X.shape"
   ]
  },
  {
   "cell_type": "markdown",
   "metadata": {},
   "source": [
    "## Invert scaling for forecast"
   ]
  },
  {
   "cell_type": "code",
   "execution_count": 19,
   "metadata": {},
   "outputs": [
    {
     "data": {
      "text/plain": [
       "(50,)"
      ]
     },
     "execution_count": 19,
     "metadata": {},
     "output_type": "execute_result"
    }
   ],
   "source": [
    "pred = {'VFINX': 0}\n",
    "inv_yhat = concatenate((yhat, numpy.delete(test_X, pred['VFINX'], axis=1)), axis=1)\n",
    "inv_yhat = scaler.inverse_transform(inv_yhat)\n",
    "inv_yhat = inv_yhat[:,0]\n",
    "inv_yhat.shape"
   ]
  },
  {
   "cell_type": "markdown",
   "metadata": {},
   "source": [
    "## Invert scaling for actual"
   ]
  },
  {
   "cell_type": "code",
   "execution_count": 20,
   "metadata": {},
   "outputs": [
    {
     "data": {
      "text/plain": [
       "(50,)"
      ]
     },
     "execution_count": 20,
     "metadata": {},
     "output_type": "execute_result"
    }
   ],
   "source": [
    "real = test_y.reshape((len(test_y), 1))\n",
    "inv_y = concatenate((real, numpy.delete(test_X, pred['VFINX'], axis=1)), axis=1)\n",
    "inv_y = scaler.inverse_transform(inv_y)\n",
    "inv_y = inv_y[:,0]\n",
    "inv_y.shape"
   ]
  },
  {
   "cell_type": "markdown",
   "metadata": {},
   "source": [
    "## RMSE"
   ]
  },
  {
   "cell_type": "code",
   "execution_count": 21,
   "metadata": {},
   "outputs": [
    {
     "name": "stdout",
     "output_type": "stream",
     "text": [
      "Test RMSE: 4.634\n"
     ]
    }
   ],
   "source": [
    "from sklearn.metrics import mean_squared_error\n",
    "rmse = sqrt(mean_squared_error(inv_y, inv_yhat))\n",
    "print('Test RMSE: %.3f' % rmse)"
   ]
  },
  {
   "cell_type": "code",
   "execution_count": 22,
   "metadata": {},
   "outputs": [],
   "source": [
    "inv_y = np.cumprod(inv_y+1)\n",
    "inv_yhat = np.cumprod(inv_yhat+1)"
   ]
  },
  {
   "cell_type": "markdown",
   "metadata": {},
   "source": [
    "## Predict vs Real"
   ]
  },
  {
   "cell_type": "code",
   "execution_count": 23,
   "metadata": {},
   "outputs": [
    {
     "data": {
      "image/png": "[encoded data removed]",
      "text/plain": [
       "<Figure size 1440x720 with 1 Axes>"
      ]
     },
     "metadata": {
      "needs_background": "light"
     },
     "output_type": "display_data"
    }
   ],
   "source": [
    "import matplotlib.pyplot as plt\n",
    "plt.figure(figsize=(20,10))\n",
    "plt.plot(inv_y, color = 'red', label = 'Real')\n",
    "plt.plot(inv_yhat, color = 'blue', label = 'Predict')\n",
    "plt.title('Real vs Predict')\n",
    "plt.xlabel('Time')\n",
    "plt.ylabel('Price')\n",
    "plt.legend()\n",
    "plt.show()"
   ]
  },
  {
   "cell_type": "markdown",
   "metadata": {},
   "source": [
    "## CNN Data Split (same with LSTM)"
   ]
  },
  {
   "cell_type": "code",
   "execution_count": 24,
   "metadata": {},
   "outputs": [
    {
     "data": {
      "text/plain": [
       "((200, 21), (200,), (50, 21), (50,))"
      ]
     },
     "execution_count": 24,
     "metadata": {},
     "output_type": "execute_result"
    }
   ],
   "source": [
    "train = reframed.values[:200,:]\n",
    "test = reframed.values[200:250,:]\n",
    "train_X, train_y = train[:, :-1], train[:, -1]\n",
    "test_X , test_y  = test[:, :-1], test[:, -1]\n",
    "train_X.shape, train_y.shape, test_X.shape, test_y.shape"
   ]
  },
  {
   "cell_type": "markdown",
   "metadata": {},
   "source": [
    "## CNN Data Split"
   ]
  },
  {
   "cell_type": "code",
   "execution_count": 25,
   "metadata": {},
   "outputs": [
    {
     "name": "stdout",
     "output_type": "stream",
     "text": [
      "Model: \"sequential_1\"\n",
      "_________________________________________________________________\n",
      "Layer (type)                 Output Shape              Param #   \n",
      "=================================================================\n",
      "dense_1 (Dense)              (None, 5)                 110       \n",
      "_________________________________________________________________\n",
      "dense_2 (Dense)              (None, 5)                 30        \n",
      "_________________________________________________________________\n",
      "dense_3 (Dense)              (None, 1)                 6         \n",
      "=================================================================\n",
      "Total params: 146\n",
      "Trainable params: 146\n",
      "Non-trainable params: 0\n",
      "_________________________________________________________________\n"
     ]
    }
   ],
   "source": [
    "from keras.layers import Activation, Dense\n",
    "model = keras.Sequential()\n",
    "model.add(Dense(5, activation='relu', input_shape=(21,)))\n",
    "model.add(Dense(5, activation='relu'))\n",
    "model.add(Dense(1,  activation='sigmoid'))\n",
    "model.compile(loss='mse',\n",
    "              optimizer='adam',\n",
    "              metrics=['mae','mse'])\n",
    "model.summary()"
   ]
  },
  {
   "cell_type": "markdown",
   "metadata": {},
   "source": [
    "## Training"
   ]
  },
  {
   "cell_type": "code",
   "execution_count": 26,
   "metadata": {},
   "outputs": [
    {
     "name": "stdout",
     "output_type": "stream",
     "text": [
      "Epoch 1/100\n",
      "3/3 [==============================] - 0s 68ms/step - loss: 0.0445 - mae: 0.1812 - mse: 0.0445 - val_loss: 0.1118 - val_mae: 0.3276 - val_mse: 0.1118\n",
      "Epoch 2/100\n",
      "3/3 [==============================] - 0s 26ms/step - loss: 0.0423 - mae: 0.1754 - mse: 0.0423 - val_loss: 0.1113 - val_mae: 0.3269 - val_mse: 0.1113\n",
      "Epoch 3/100\n",
      "3/3 [==============================] - 0s 5ms/step - loss: 0.0401 - mae: 0.1702 - mse: 0.0401 - val_loss: 0.1109 - val_mae: 0.3262 - val_mse: 0.1109\n",
      "Epoch 4/100\n",
      "3/3 [==============================] - 0s 27ms/step - loss: 0.0378 - mae: 0.1648 - mse: 0.0378 - val_loss: 0.1104 - val_mae: 0.3255 - val_mse: 0.1104\n",
      "Epoch 5/100\n",
      "3/3 [==============================] - 0s 6ms/step - loss: 0.0357 - mae: 0.1596 - mse: 0.0357 - val_loss: 0.1097 - val_mae: 0.3243 - val_mse: 0.1097\n",
      "Epoch 6/100\n",
      "3/3 [==============================] - 0s 27ms/step - loss: 0.0344 - mae: 0.1559 - mse: 0.0344 - val_loss: 0.1087 - val_mae: 0.3229 - val_mse: 0.1087\n",
      "Epoch 7/100\n",
      "3/3 [==============================] - 0s 5ms/step - loss: 0.0338 - mae: 0.1534 - mse: 0.0338 - val_loss: 0.1076 - val_mae: 0.3213 - val_mse: 0.1076\n",
      "Epoch 8/100\n",
      "3/3 [==============================] - 0s 25ms/step - loss: 0.0334 - mae: 0.1515 - mse: 0.0334 - val_loss: 0.1066 - val_mae: 0.3198 - val_mse: 0.1066\n",
      "Epoch 9/100\n",
      "3/3 [==============================] - 0s 5ms/step - loss: 0.0332 - mae: 0.1507 - mse: 0.0332 - val_loss: 0.1057 - val_mae: 0.3185 - val_mse: 0.1057\n",
      "Epoch 10/100\n",
      "3/3 [==============================] - 0s 26ms/step - loss: 0.0331 - mae: 0.1505 - mse: 0.0331 - val_loss: 0.1051 - val_mae: 0.3175 - val_mse: 0.1051\n",
      "Epoch 11/100\n",
      "3/3 [==============================] - 0s 5ms/step - loss: 0.0330 - mae: 0.1503 - mse: 0.0330 - val_loss: 0.1045 - val_mae: 0.3167 - val_mse: 0.1045\n",
      "Epoch 12/100\n",
      "3/3 [==============================] - 0s 26ms/step - loss: 0.0329 - mae: 0.1501 - mse: 0.0329 - val_loss: 0.1041 - val_mae: 0.3159 - val_mse: 0.1041\n",
      "Epoch 13/100\n",
      "3/3 [==============================] - 1s 232ms/step - loss: 0.0328 - mae: 0.1498 - mse: 0.0328 - val_loss: 0.1037 - val_mae: 0.3153 - val_mse: 0.1037\n",
      "Epoch 14/100\n",
      "3/3 [==============================] - 1s 334ms/step - loss: 0.0327 - mae: 0.1495 - mse: 0.0327 - val_loss: 0.1033 - val_mae: 0.3147 - val_mse: 0.1033\n",
      "Epoch 15/100\n",
      "3/3 [==============================] - 1s 333ms/step - loss: 0.0326 - mae: 0.1492 - mse: 0.0326 - val_loss: 0.1030 - val_mae: 0.3142 - val_mse: 0.1030\n",
      "Epoch 16/100\n",
      "3/3 [==============================] - 1s 267ms/step - loss: 0.0326 - mae: 0.1490 - mse: 0.0326 - val_loss: 0.1027 - val_mae: 0.3137 - val_mse: 0.1027\n",
      "Epoch 17/100\n",
      "3/3 [==============================] - 1s 167ms/step - loss: 0.0325 - mae: 0.1487 - mse: 0.0325 - val_loss: 0.1024 - val_mae: 0.3133 - val_mse: 0.1024\n",
      "Epoch 18/100\n",
      "3/3 [==============================] - 1s 234ms/step - loss: 0.0324 - mae: 0.1484 - mse: 0.0324 - val_loss: 0.1022 - val_mae: 0.3129 - val_mse: 0.1022\n",
      "Epoch 19/100\n",
      "3/3 [==============================] - 0s 166ms/step - loss: 0.0323 - mae: 0.1481 - mse: 0.0323 - val_loss: 0.1020 - val_mae: 0.3126 - val_mse: 0.1020\n",
      "Epoch 20/100\n",
      "3/3 [==============================] - 1s 167ms/step - loss: 0.0322 - mae: 0.1479 - mse: 0.0322 - val_loss: 0.1018 - val_mae: 0.3123 - val_mse: 0.1018\n",
      "Epoch 21/100\n",
      "3/3 [==============================] - 1s 234ms/step - loss: 0.0321 - mae: 0.1476 - mse: 0.0321 - val_loss: 0.1017 - val_mae: 0.3120 - val_mse: 0.1017\n",
      "Epoch 22/100\n",
      "3/3 [==============================] - 0s 134ms/step - loss: 0.0320 - mae: 0.1473 - mse: 0.0320 - val_loss: 0.1015 - val_mae: 0.3118 - val_mse: 0.1015\n",
      "Epoch 23/100\n",
      "3/3 [==============================] - 1s 167ms/step - loss: 0.0320 - mae: 0.1470 - mse: 0.0320 - val_loss: 0.1014 - val_mae: 0.3116 - val_mse: 0.1014\n",
      "Epoch 24/100\n",
      "3/3 [==============================] - 1s 265ms/step - loss: 0.0319 - mae: 0.1467 - mse: 0.0319 - val_loss: 0.1013 - val_mae: 0.3114 - val_mse: 0.1013\n",
      "Epoch 25/100\n",
      "3/3 [==============================] - 1s 266ms/step - loss: 0.0318 - mae: 0.1464 - mse: 0.0318 - val_loss: 0.1012 - val_mae: 0.3111 - val_mse: 0.1012\n",
      "Epoch 26/100\n",
      "3/3 [==============================] - 0s 66ms/step - loss: 0.0317 - mae: 0.1462 - mse: 0.0317 - val_loss: 0.1011 - val_mae: 0.3109 - val_mse: 0.1011\n",
      "Epoch 27/100\n",
      "3/3 [==============================] - 1s 169ms/step - loss: 0.0316 - mae: 0.1459 - mse: 0.0316 - val_loss: 0.1009 - val_mae: 0.3106 - val_mse: 0.1009\n",
      "Epoch 28/100\n",
      "3/3 [==============================] - 1s 201ms/step - loss: 0.0316 - mae: 0.1457 - mse: 0.0316 - val_loss: 0.1007 - val_mae: 0.3103 - val_mse: 0.1007\n",
      "Epoch 29/100\n",
      "3/3 [==============================] - 1s 301ms/step - loss: 0.0315 - mae: 0.1454 - mse: 0.0315 - val_loss: 0.1005 - val_mae: 0.3099 - val_mse: 0.1005\n",
      "Epoch 30/100\n",
      "3/3 [==============================] - 1s 167ms/step - loss: 0.0314 - mae: 0.1452 - mse: 0.0314 - val_loss: 0.1003 - val_mae: 0.3095 - val_mse: 0.1003\n",
      "Epoch 31/100\n",
      "3/3 [==============================] - 0s 134ms/step - loss: 0.0314 - mae: 0.1450 - mse: 0.0314 - val_loss: 0.1000 - val_mae: 0.3091 - val_mse: 0.1000\n",
      "Epoch 32/100\n",
      "3/3 [==============================] - 1s 334ms/step - loss: 0.0313 - mae: 0.1447 - mse: 0.0313 - val_loss: 0.0997 - val_mae: 0.3086 - val_mse: 0.0997\n",
      "Epoch 33/100\n",
      "3/3 [==============================] - 0s 99ms/step - loss: 0.0312 - mae: 0.1445 - mse: 0.0312 - val_loss: 0.0994 - val_mae: 0.3081 - val_mse: 0.0994\n",
      "Epoch 34/100\n",
      "3/3 [==============================] - 1s 300ms/step - loss: 0.0312 - mae: 0.1443 - mse: 0.0312 - val_loss: 0.0991 - val_mae: 0.3076 - val_mse: 0.0991\n",
      "Epoch 35/100\n",
      "3/3 [==============================] - 1s 200ms/step - loss: 0.0311 - mae: 0.1441 - mse: 0.0311 - val_loss: 0.0988 - val_mae: 0.3071 - val_mse: 0.0988\n",
      "Epoch 36/100\n",
      "3/3 [==============================] - 1s 300ms/step - loss: 0.0311 - mae: 0.1439 - mse: 0.0311 - val_loss: 0.0985 - val_mae: 0.3066 - val_mse: 0.0985\n",
      "Epoch 37/100\n",
      "3/3 [==============================] - 1s 432ms/step - loss: 0.0310 - mae: 0.1437 - mse: 0.0310 - val_loss: 0.0982 - val_mae: 0.3061 - val_mse: 0.0982\n",
      "Epoch 38/100\n",
      "3/3 [==============================] - 2s 532ms/step - loss: 0.0309 - mae: 0.1435 - mse: 0.0309 - val_loss: 0.0979 - val_mae: 0.3056 - val_mse: 0.0979\n",
      "Epoch 39/100\n",
      "3/3 [==============================] - 1s 265ms/step - loss: 0.0309 - mae: 0.1432 - mse: 0.0309 - val_loss: 0.0975 - val_mae: 0.3051 - val_mse: 0.0975\n",
      "Epoch 40/100\n",
      "3/3 [==============================] - 0s 135ms/step - loss: 0.0308 - mae: 0.1430 - mse: 0.0308 - val_loss: 0.0972 - val_mae: 0.3046 - val_mse: 0.0972\n",
      "Epoch 41/100\n",
      "3/3 [==============================] - 0s 5ms/step - loss: 0.0308 - mae: 0.1428 - mse: 0.0308 - val_loss: 0.0969 - val_mae: 0.3041 - val_mse: 0.0969\n",
      "Epoch 42/100\n",
      "3/3 [==============================] - 0s 30ms/step - loss: 0.0307 - mae: 0.1426 - mse: 0.0307 - val_loss: 0.0966 - val_mae: 0.3036 - val_mse: 0.0966\n",
      "Epoch 43/100\n",
      "3/3 [==============================] - 0s 5ms/step - loss: 0.0307 - mae: 0.1424 - mse: 0.0307 - val_loss: 0.0963 - val_mae: 0.3031 - val_mse: 0.0963\n",
      "Epoch 44/100\n",
      "3/3 [==============================] - 0s 26ms/step - loss: 0.0306 - mae: 0.1423 - mse: 0.0306 - val_loss: 0.0960 - val_mae: 0.3026 - val_mse: 0.0960\n",
      "Epoch 45/100\n",
      "3/3 [==============================] - 0s 5ms/step - loss: 0.0306 - mae: 0.1421 - mse: 0.0306 - val_loss: 0.0957 - val_mae: 0.3021 - val_mse: 0.0957\n",
      "Epoch 46/100\n",
      "3/3 [==============================] - 0s 25ms/step - loss: 0.0305 - mae: 0.1419 - mse: 0.0305 - val_loss: 0.0954 - val_mae: 0.3016 - val_mse: 0.0954\n",
      "Epoch 47/100\n",
      "3/3 [==============================] - 0s 5ms/step - loss: 0.0305 - mae: 0.1417 - mse: 0.0305 - val_loss: 0.0951 - val_mae: 0.3011 - val_mse: 0.0951\n",
      "Epoch 48/100\n",
      "3/3 [==============================] - 0s 25ms/step - loss: 0.0304 - mae: 0.1415 - mse: 0.0304 - val_loss: 0.0949 - val_mae: 0.3006 - val_mse: 0.0949\n",
      "Epoch 49/100\n",
      "3/3 [==============================] - 0s 5ms/step - loss: 0.0304 - mae: 0.1413 - mse: 0.0304 - val_loss: 0.0946 - val_mae: 0.3002 - val_mse: 0.0946\n",
      "Epoch 50/100\n",
      "3/3 [==============================] - 0s 5ms/step - loss: 0.0303 - mae: 0.1411 - mse: 0.0303 - val_loss: 0.0943 - val_mae: 0.2997 - val_mse: 0.0943\n",
      "Epoch 51/100\n",
      "3/3 [==============================] - 0s 6ms/step - loss: 0.0303 - mae: 0.1409 - mse: 0.0303 - val_loss: 0.0940 - val_mae: 0.2992 - val_mse: 0.0940\n",
      "Epoch 52/100\n",
      "3/3 [==============================] - 0s 5ms/step - loss: 0.0302 - mae: 0.1407 - mse: 0.0302 - val_loss: 0.0937 - val_mae: 0.2987 - val_mse: 0.0937\n",
      "Epoch 53/100\n",
      "3/3 [==============================] - 0s 6ms/step - loss: 0.0302 - mae: 0.1406 - mse: 0.0302 - val_loss: 0.0934 - val_mae: 0.2983 - val_mse: 0.0934\n",
      "Epoch 54/100\n",
      "3/3 [==============================] - 0s 27ms/step - loss: 0.0301 - mae: 0.1404 - mse: 0.0301 - val_loss: 0.0932 - val_mae: 0.2978 - val_mse: 0.0932\n",
      "Epoch 55/100\n",
      "3/3 [==============================] - 0s 5ms/step - loss: 0.0301 - mae: 0.1402 - mse: 0.0301 - val_loss: 0.0929 - val_mae: 0.2974 - val_mse: 0.0929\n",
      "Epoch 56/100\n",
      "3/3 [==============================] - 0s 5ms/step - loss: 0.0300 - mae: 0.1400 - mse: 0.0300 - val_loss: 0.0926 - val_mae: 0.2969 - val_mse: 0.0926\n",
      "Epoch 57/100\n",
      "3/3 [==============================] - 0s 6ms/step - loss: 0.0300 - mae: 0.1399 - mse: 0.0300 - val_loss: 0.0923 - val_mae: 0.2964 - val_mse: 0.0923\n",
      "Epoch 58/100\n",
      "3/3 [==============================] - 0s 27ms/step - loss: 0.0300 - mae: 0.1397 - mse: 0.0300 - val_loss: 0.0921 - val_mae: 0.2960 - val_mse: 0.0921\n",
      "Epoch 59/100\n",
      "3/3 [==============================] - 0s 5ms/step - loss: 0.0299 - mae: 0.1395 - mse: 0.0299 - val_loss: 0.0918 - val_mae: 0.2955 - val_mse: 0.0918\n",
      "Epoch 60/100\n",
      "3/3 [==============================] - 0s 5ms/step - loss: 0.0299 - mae: 0.1394 - mse: 0.0299 - val_loss: 0.0915 - val_mae: 0.2951 - val_mse: 0.0915\n",
      "Epoch 61/100\n",
      "3/3 [==============================] - 0s 5ms/step - loss: 0.0298 - mae: 0.1392 - mse: 0.0298 - val_loss: 0.0913 - val_mae: 0.2946 - val_mse: 0.0913\n",
      "Epoch 62/100\n",
      "3/3 [==============================] - 0s 5ms/step - loss: 0.0298 - mae: 0.1390 - mse: 0.0298 - val_loss: 0.0910 - val_mae: 0.2942 - val_mse: 0.0910\n",
      "Epoch 63/100\n",
      "3/3 [==============================] - 0s 26ms/step - loss: 0.0298 - mae: 0.1389 - mse: 0.0298 - val_loss: 0.0908 - val_mae: 0.2938 - val_mse: 0.0908\n",
      "Epoch 64/100\n",
      "3/3 [==============================] - 0s 5ms/step - loss: 0.0297 - mae: 0.1387 - mse: 0.0297 - val_loss: 0.0905 - val_mae: 0.2933 - val_mse: 0.0905\n",
      "Epoch 65/100\n",
      "3/3 [==============================] - 0s 25ms/step - loss: 0.0297 - mae: 0.1385 - mse: 0.0297 - val_loss: 0.0902 - val_mae: 0.2929 - val_mse: 0.0902\n",
      "Epoch 66/100\n",
      "3/3 [==============================] - 0s 5ms/step - loss: 0.0296 - mae: 0.1384 - mse: 0.0296 - val_loss: 0.0900 - val_mae: 0.2925 - val_mse: 0.0900\n",
      "Epoch 67/100\n",
      "3/3 [==============================] - 0s 24ms/step - loss: 0.0296 - mae: 0.1382 - mse: 0.0296 - val_loss: 0.0897 - val_mae: 0.2921 - val_mse: 0.0897\n",
      "Epoch 68/100\n",
      "3/3 [==============================] - 0s 5ms/step - loss: 0.0296 - mae: 0.1381 - mse: 0.0296 - val_loss: 0.0895 - val_mae: 0.2916 - val_mse: 0.0895\n",
      "Epoch 69/100\n",
      "3/3 [==============================] - 0s 26ms/step - loss: 0.0295 - mae: 0.1379 - mse: 0.0295 - val_loss: 0.0892 - val_mae: 0.2912 - val_mse: 0.0892\n",
      "Epoch 70/100\n",
      "3/3 [==============================] - 0s 5ms/step - loss: 0.0295 - mae: 0.1378 - mse: 0.0295 - val_loss: 0.0890 - val_mae: 0.2908 - val_mse: 0.0890\n",
      "Epoch 71/100\n",
      "3/3 [==============================] - 0s 26ms/step - loss: 0.0295 - mae: 0.1376 - mse: 0.0295 - val_loss: 0.0888 - val_mae: 0.2904 - val_mse: 0.0888\n",
      "Epoch 72/100\n",
      "3/3 [==============================] - 0s 5ms/step - loss: 0.0294 - mae: 0.1375 - mse: 0.0294 - val_loss: 0.0885 - val_mae: 0.2899 - val_mse: 0.0885\n",
      "Epoch 73/100\n",
      "3/3 [==============================] - 0s 27ms/step - loss: 0.0294 - mae: 0.1373 - mse: 0.0294 - val_loss: 0.0883 - val_mae: 0.2895 - val_mse: 0.0883\n",
      "Epoch 74/100\n",
      "3/3 [==============================] - 0s 5ms/step - loss: 0.0294 - mae: 0.1372 - mse: 0.0294 - val_loss: 0.0880 - val_mae: 0.2891 - val_mse: 0.0880\n",
      "Epoch 75/100\n",
      "3/3 [==============================] - 0s 26ms/step - loss: 0.0293 - mae: 0.1371 - mse: 0.0293 - val_loss: 0.0878 - val_mae: 0.2887 - val_mse: 0.0878\n",
      "Epoch 76/100\n",
      "3/3 [==============================] - 0s 5ms/step - loss: 0.0293 - mae: 0.1370 - mse: 0.0293 - val_loss: 0.0876 - val_mae: 0.2883 - val_mse: 0.0876\n",
      "Epoch 77/100\n",
      "3/3 [==============================] - 0s 29ms/step - loss: 0.0293 - mae: 0.1369 - mse: 0.0293 - val_loss: 0.0873 - val_mae: 0.2879 - val_mse: 0.0873\n",
      "Epoch 78/100\n",
      "3/3 [==============================] - 0s 5ms/step - loss: 0.0293 - mae: 0.1368 - mse: 0.0293 - val_loss: 0.0871 - val_mae: 0.2875 - val_mse: 0.0871\n",
      "Epoch 79/100\n",
      "3/3 [==============================] - 0s 28ms/step - loss: 0.0292 - mae: 0.1366 - mse: 0.0292 - val_loss: 0.0869 - val_mae: 0.2871 - val_mse: 0.0869\n",
      "Epoch 80/100\n",
      "3/3 [==============================] - 0s 28ms/step - loss: 0.0292 - mae: 0.1365 - mse: 0.0292 - val_loss: 0.0866 - val_mae: 0.2867 - val_mse: 0.0866\n",
      "Epoch 81/100\n",
      "3/3 [==============================] - 0s 5ms/step - loss: 0.0292 - mae: 0.1364 - mse: 0.0292 - val_loss: 0.0864 - val_mae: 0.2863 - val_mse: 0.0864\n",
      "Epoch 82/100\n",
      "3/3 [==============================] - 0s 27ms/step - loss: 0.0291 - mae: 0.1363 - mse: 0.0291 - val_loss: 0.0862 - val_mae: 0.2859 - val_mse: 0.0862\n",
      "Epoch 83/100\n",
      "3/3 [==============================] - 0s 5ms/step - loss: 0.0291 - mae: 0.1362 - mse: 0.0291 - val_loss: 0.0860 - val_mae: 0.2855 - val_mse: 0.0860\n",
      "Epoch 84/100\n",
      "3/3 [==============================] - 0s 5ms/step - loss: 0.0291 - mae: 0.1361 - mse: 0.0291 - val_loss: 0.0857 - val_mae: 0.2851 - val_mse: 0.0857\n",
      "Epoch 85/100\n",
      "3/3 [==============================] - 0s 5ms/step - loss: 0.0291 - mae: 0.1360 - mse: 0.0291 - val_loss: 0.0855 - val_mae: 0.2847 - val_mse: 0.0855\n",
      "Epoch 86/100\n",
      "3/3 [==============================] - 0s 5ms/step - loss: 0.0290 - mae: 0.1359 - mse: 0.0290 - val_loss: 0.0853 - val_mae: 0.2844 - val_mse: 0.0853\n",
      "Epoch 87/100\n",
      "3/3 [==============================] - 0s 26ms/step - loss: 0.0290 - mae: 0.1358 - mse: 0.0290 - val_loss: 0.0851 - val_mae: 0.2840 - val_mse: 0.0851\n",
      "Epoch 88/100\n",
      "3/3 [==============================] - 0s 5ms/step - loss: 0.0290 - mae: 0.1357 - mse: 0.0290 - val_loss: 0.0849 - val_mae: 0.2836 - val_mse: 0.0849\n",
      "Epoch 89/100\n",
      "3/3 [==============================] - 0s 27ms/step - loss: 0.0290 - mae: 0.1356 - mse: 0.0290 - val_loss: 0.0847 - val_mae: 0.2833 - val_mse: 0.0847\n",
      "Epoch 90/100\n",
      "3/3 [==============================] - 0s 5ms/step - loss: 0.0290 - mae: 0.1355 - mse: 0.0290 - val_loss: 0.0845 - val_mae: 0.2829 - val_mse: 0.0845\n",
      "Epoch 91/100\n",
      "3/3 [==============================] - 0s 26ms/step - loss: 0.0289 - mae: 0.1354 - mse: 0.0289 - val_loss: 0.0843 - val_mae: 0.2825 - val_mse: 0.0843\n",
      "Epoch 92/100\n",
      "3/3 [==============================] - 0s 5ms/step - loss: 0.0289 - mae: 0.1353 - mse: 0.0289 - val_loss: 0.0841 - val_mae: 0.2822 - val_mse: 0.0841\n",
      "Epoch 93/100\n",
      "3/3 [==============================] - 0s 5ms/step - loss: 0.0289 - mae: 0.1352 - mse: 0.0289 - val_loss: 0.0839 - val_mae: 0.2818 - val_mse: 0.0839\n",
      "Epoch 94/100\n",
      "3/3 [==============================] - 0s 5ms/step - loss: 0.0289 - mae: 0.1351 - mse: 0.0289 - val_loss: 0.0837 - val_mae: 0.2815 - val_mse: 0.0837\n",
      "Epoch 95/100\n",
      "3/3 [==============================] - 0s 26ms/step - loss: 0.0288 - mae: 0.1351 - mse: 0.0288 - val_loss: 0.0835 - val_mae: 0.2811 - val_mse: 0.0835\n",
      "Epoch 96/100\n",
      "3/3 [==============================] - 0s 5ms/step - loss: 0.0288 - mae: 0.1350 - mse: 0.0288 - val_loss: 0.0833 - val_mae: 0.2808 - val_mse: 0.0833\n",
      "Epoch 97/100\n",
      "3/3 [==============================] - 0s 27ms/step - loss: 0.0288 - mae: 0.1349 - mse: 0.0288 - val_loss: 0.0831 - val_mae: 0.2804 - val_mse: 0.0831\n",
      "Epoch 98/100\n",
      "3/3 [==============================] - 0s 5ms/step - loss: 0.0288 - mae: 0.1348 - mse: 0.0288 - val_loss: 0.0829 - val_mae: 0.2801 - val_mse: 0.0829\n",
      "Epoch 99/100\n",
      "3/3 [==============================] - 0s 24ms/step - loss: 0.0288 - mae: 0.1347 - mse: 0.0288 - val_loss: 0.0827 - val_mae: 0.2798 - val_mse: 0.0827\n",
      "Epoch 100/100\n",
      "3/3 [==============================] - 0s 5ms/step - loss: 0.0288 - mae: 0.1346 - mse: 0.0288 - val_loss: 0.0825 - val_mae: 0.2794 - val_mse: 0.0825\n"
     ]
    }
   ],
   "source": [
    "history = model.fit(train_X, train_y, epochs=100, \n",
    "                    batch_size=72, validation_data=(test_X, test_y), \n",
    "                    verbose=1, shuffle=False)"
   ]
  },
  {
   "cell_type": "markdown",
   "metadata": {},
   "source": [
    "## Plot Loss Curve"
   ]
  },
  {
   "cell_type": "code",
   "execution_count": 27,
   "metadata": {},
   "outputs": [
    {
     "name": "stdout",
     "output_type": "stream",
     "text": [
      "Populating the interactive namespace from numpy and matplotlib\n"
     ]
    },
    {
     "name": "stderr",
     "output_type": "stream",
     "text": [
      "/opt/conda/lib/python3.6/site-packages/IPython/core/magics/pylab.py:160: UserWarning: pylab import has clobbered these variables: ['test', 'real']\n",
      "`%matplotlib` prevents importing * from pylab and numpy\n",
      "  \"\\n`%matplotlib` prevents importing * from pylab and numpy\"\n"
     ]
    },
    {
     "data": {
      "image/png": "[encoded data removed]",
      "text/plain": [
       "<Figure size 432x288 with 1 Axes>"
      ]
     },
     "metadata": {
      "needs_background": "light"
     },
     "output_type": "display_data"
    }
   ],
   "source": [
    "%pylab inline\n",
    "from matplotlib import pyplot\n",
    "pyplot.plot(history.history['loss'], label='train')\n",
    "pyplot.plot(history.history['val_loss'], label='test')\n",
    "pyplot.legend()\n",
    "pyplot.show()"
   ]
  },
  {
   "cell_type": "markdown",
   "metadata": {},
   "source": [
    "## Model Predict"
   ]
  },
  {
   "cell_type": "code",
   "execution_count": 28,
   "metadata": {},
   "outputs": [
    {
     "data": {
      "text/plain": [
       "((50, 1), (50, 21))"
      ]
     },
     "execution_count": 28,
     "metadata": {},
     "output_type": "execute_result"
    }
   ],
   "source": [
    "yhat = model.predict(test_X)\n",
    "yhat.shape, test_X.shape"
   ]
  },
  {
   "cell_type": "code",
   "execution_count": 29,
   "metadata": {},
   "outputs": [
    {
     "data": {
      "text/plain": [
       "(50,)"
      ]
     },
     "execution_count": 29,
     "metadata": {},
     "output_type": "execute_result"
    }
   ],
   "source": [
    "pred = {'VFINX': 0}\n",
    "inv_yhat = concatenate((yhat, numpy.delete(test_X, pred['VFINX'], axis=1)), axis=1)\n",
    "inv_yhat = scaler.inverse_transform(inv_yhat)\n",
    "inv_yhat = inv_yhat[:,0]\n",
    "inv_yhat.shape"
   ]
  },
  {
   "cell_type": "code",
   "execution_count": 30,
   "metadata": {},
   "outputs": [
    {
     "data": {
      "text/plain": [
       "(50,)"
      ]
     },
     "execution_count": 30,
     "metadata": {},
     "output_type": "execute_result"
    }
   ],
   "source": [
    "real = test_y.reshape((len(test_y), 1))\n",
    "inv_y = concatenate((real, numpy.delete(test_X, pred['VFINX'], axis=1)), axis=1)\n",
    "inv_y = scaler.inverse_transform(inv_y)\n",
    "inv_y = inv_y[:,0]\n",
    "inv_y.shape"
   ]
  },
  {
   "cell_type": "code",
   "execution_count": 31,
   "metadata": {},
   "outputs": [
    {
     "name": "stdout",
     "output_type": "stream",
     "text": [
      "Test RMSE: 36.034\n"
     ]
    }
   ],
   "source": [
    "from sklearn.metrics import mean_squared_error\n",
    "rmse = sqrt(mean_squared_error(inv_y, inv_yhat))\n",
    "print('Test RMSE: %.3f' % rmse)"
   ]
  },
  {
   "cell_type": "code",
   "execution_count": 32,
   "metadata": {},
   "outputs": [],
   "source": [
    "inv_y = np.cumprod(inv_y+1)\n",
    "inv_yhat = np.cumprod(inv_yhat+1)"
   ]
  },
  {
   "cell_type": "code",
   "execution_count": 33,
   "metadata": {},
   "outputs": [
    {
     "data": {
      "image/png": "[encoded data removed]",
      "text/plain": [
       "<Figure size 1440x720 with 1 Axes>"
      ]
     },
     "metadata": {
      "needs_background": "light"
     },
     "output_type": "display_data"
    }
   ],
   "source": [
    "import matplotlib.pyplot as plt\n",
    "plt.figure(figsize=(20,10))\n",
    "plt.plot(inv_y, color = 'red', label = 'Real')\n",
    "plt.plot(inv_yhat, color = 'blue', label = 'Predict')\n",
    "plt.title('Real vs Predict')\n",
    "plt.xlabel('Time')\n",
    "plt.ylabel('Price')\n",
    "plt.legend()\n",
    "plt.show()"
   ]
  },
  {
   "cell_type": "code",
   "execution_count": null,
   "metadata": {},
   "outputs": [],
   "source": []
  },
  {
   "cell_type": "markdown",
   "metadata": {},
   "source": [
    "## *** SVM Classification ***"
   ]
  },
  {
   "cell_type": "code",
   "execution_count": 34,
   "metadata": {},
   "outputs": [
    {
     "data": {
      "text/html": [
       "<div>\n",
       "<style scoped>\n",
       "    .dataframe tbody tr th:only-of-type {\n",
       "        vertical-align: middle;\n",
       "    }\n",
       "\n",
       "    .dataframe tbody tr th {\n",
       "        vertical-align: top;\n",
       "    }\n",
       "\n",
       "    .dataframe thead th {\n",
       "        text-align: right;\n",
       "    }\n",
       "</style>\n",
       "<table border=\"1\" class=\"dataframe\">\n",
       "  <thead>\n",
       "    <tr style=\"text-align: right;\">\n",
       "      <th></th>\n",
       "      <th>Date</th>\n",
       "      <th>VFINX</th>\n",
       "      <th>VBMFX</th>\n",
       "      <th>VIX.chg</th>\n",
       "      <th>VIX.ret</th>\n",
       "      <th>SPX_SMA</th>\n",
       "      <th>VFINX_SKW</th>\n",
       "      <th>VBMFX_SKW</th>\n",
       "      <th>VIX_SKW</th>\n",
       "    </tr>\n",
       "  </thead>\n",
       "  <tbody>\n",
       "    <tr>\n",
       "      <th>0</th>\n",
       "      <td>1992/7/31</td>\n",
       "      <td>0.040435</td>\n",
       "      <td>0.019139</td>\n",
       "      <td>0.990000</td>\n",
       "      <td>0.054396</td>\n",
       "      <td>59.404538</td>\n",
       "      <td>0.147270</td>\n",
       "      <td>-0.361634</td>\n",
       "      <td>1.611413</td>\n",
       "    </tr>\n",
       "    <tr>\n",
       "      <th>1</th>\n",
       "      <td>1992/8/31</td>\n",
       "      <td>-0.020678</td>\n",
       "      <td>0.009810</td>\n",
       "      <td>1.180001</td>\n",
       "      <td>0.074542</td>\n",
       "      <td>42.446817</td>\n",
       "      <td>0.203045</td>\n",
       "      <td>-0.383036</td>\n",
       "      <td>1.611591</td>\n",
       "    </tr>\n",
       "    <tr>\n",
       "      <th>2</th>\n",
       "      <td>1992/9/30</td>\n",
       "      <td>0.011695</td>\n",
       "      <td>0.012619</td>\n",
       "      <td>1.360000</td>\n",
       "      <td>0.084002</td>\n",
       "      <td>42.076810</td>\n",
       "      <td>0.234685</td>\n",
       "      <td>-0.484301</td>\n",
       "      <td>1.619356</td>\n",
       "    </tr>\n",
       "    <tr>\n",
       "      <th>3</th>\n",
       "      <td>1992/10/31</td>\n",
       "      <td>0.003287</td>\n",
       "      <td>-0.012196</td>\n",
       "      <td>2.219999</td>\n",
       "      <td>0.146149</td>\n",
       "      <td>38.072277</td>\n",
       "      <td>0.197649</td>\n",
       "      <td>-0.537942</td>\n",
       "      <td>1.608442</td>\n",
       "    </tr>\n",
       "    <tr>\n",
       "      <th>4</th>\n",
       "      <td>1992/11/30</td>\n",
       "      <td>0.034022</td>\n",
       "      <td>-0.000232</td>\n",
       "      <td>0.660000</td>\n",
       "      <td>0.031399</td>\n",
       "      <td>49.122285</td>\n",
       "      <td>0.083761</td>\n",
       "      <td>-0.564753</td>\n",
       "      <td>1.583007</td>\n",
       "    </tr>\n",
       "  </tbody>\n",
       "</table>\n",
       "</div>"
      ],
      "text/plain": [
       "         Date     VFINX     VBMFX   VIX.chg   VIX.ret    SPX_SMA  VFINX_SKW  \\\n",
       "0   1992/7/31  0.040435  0.019139  0.990000  0.054396  59.404538   0.147270   \n",
       "1   1992/8/31 -0.020678  0.009810  1.180001  0.074542  42.446817   0.203045   \n",
       "2   1992/9/30  0.011695  0.012619  1.360000  0.084002  42.076810   0.234685   \n",
       "3  1992/10/31  0.003287 -0.012196  2.219999  0.146149  38.072277   0.197649   \n",
       "4  1992/11/30  0.034022 -0.000232  0.660000  0.031399  49.122285   0.083761   \n",
       "\n",
       "   VBMFX_SKW   VIX_SKW  \n",
       "0  -0.361634  1.611413  \n",
       "1  -0.383036  1.611591  \n",
       "2  -0.484301  1.619356  \n",
       "3  -0.537942  1.608442  \n",
       "4  -0.564753  1.583007  "
      ]
     },
     "execution_count": 34,
     "metadata": {},
     "output_type": "execute_result"
    }
   ],
   "source": [
    "\n",
    "data=pandas.read_csv(\"FEAT_DATA.csv\")\n",
    "data.head()"
   ]
  },
  {
   "cell_type": "markdown",
   "metadata": {},
   "source": [
    "## Data convert to Relative Change"
   ]
  },
  {
   "cell_type": "code",
   "execution_count": 35,
   "metadata": {},
   "outputs": [
    {
     "data": {
      "text/html": [
       "<div>\n",
       "<style scoped>\n",
       "    .dataframe tbody tr th:only-of-type {\n",
       "        vertical-align: middle;\n",
       "    }\n",
       "\n",
       "    .dataframe tbody tr th {\n",
       "        vertical-align: top;\n",
       "    }\n",
       "\n",
       "    .dataframe thead th {\n",
       "        text-align: right;\n",
       "    }\n",
       "</style>\n",
       "<table border=\"1\" class=\"dataframe\">\n",
       "  <thead>\n",
       "    <tr style=\"text-align: right;\">\n",
       "      <th></th>\n",
       "      <th>VIX.ret</th>\n",
       "      <th>SPX_SMA</th>\n",
       "    </tr>\n",
       "  </thead>\n",
       "  <tbody>\n",
       "    <tr>\n",
       "      <th>0</th>\n",
       "      <td>0.054396</td>\n",
       "      <td>59.404538</td>\n",
       "    </tr>\n",
       "    <tr>\n",
       "      <th>1</th>\n",
       "      <td>0.074542</td>\n",
       "      <td>42.446817</td>\n",
       "    </tr>\n",
       "    <tr>\n",
       "      <th>2</th>\n",
       "      <td>0.084002</td>\n",
       "      <td>42.076810</td>\n",
       "    </tr>\n",
       "    <tr>\n",
       "      <th>3</th>\n",
       "      <td>0.146149</td>\n",
       "      <td>38.072277</td>\n",
       "    </tr>\n",
       "    <tr>\n",
       "      <th>4</th>\n",
       "      <td>0.031399</td>\n",
       "      <td>49.122285</td>\n",
       "    </tr>\n",
       "  </tbody>\n",
       "</table>\n",
       "</div>"
      ],
      "text/plain": [
       "    VIX.ret    SPX_SMA\n",
       "0  0.054396  59.404538\n",
       "1  0.074542  42.446817\n",
       "2  0.084002  42.076810\n",
       "3  0.146149  38.072277\n",
       "4  0.031399  49.122285"
      ]
     },
     "execution_count": 35,
     "metadata": {},
     "output_type": "execute_result"
    }
   ],
   "source": [
    "import numpy\n",
    "y = data['VFINX']\n",
    "#x = data[['VBMFX','VIX.chg','VIX.ret','SPX_SMA','VFINX_SKW','VBMFX_SKW','VIX_SKW']]\n",
    "x = data[['VIX.ret','SPX_SMA']]\n",
    "x.head()"
   ]
  },
  {
   "cell_type": "markdown",
   "metadata": {},
   "source": [
    "## Y convert to Category"
   ]
  },
  {
   "cell_type": "code",
   "execution_count": 36,
   "metadata": {},
   "outputs": [],
   "source": [
    "#y = (y-y.mean())/y.std()\n",
    "y = numpy.where(y>0, 1, 0)\n",
    "#y = numpy.where(y>1, 1, numpy.where(y<-1, -1, 0))"
   ]
  },
  {
   "cell_type": "code",
   "execution_count": 37,
   "metadata": {},
   "outputs": [],
   "source": [
    "from sklearn.model_selection     import train_test_split\n",
    "x_train, x_test, y_train, y_test =  train_test_split(x,y, test_size = 0.33, random_state = 42 )"
   ]
  },
  {
   "cell_type": "markdown",
   "metadata": {},
   "source": [
    "## Standardize Function"
   ]
  },
  {
   "cell_type": "code",
   "execution_count": 38,
   "metadata": {},
   "outputs": [],
   "source": [
    "from sklearn.preprocessing       import StandardScaler\n",
    "def Standard(data):\n",
    "    sc = StandardScaler()\n",
    "    # fit_transform will fixed mean & vol by data\n",
    "    # transform reuse above mean & vol\n",
    "    return sc.fit_transform(data)"
   ]
  },
  {
   "cell_type": "code",
   "execution_count": 39,
   "metadata": {},
   "outputs": [
    {
     "data": {
      "text/plain": [
       "(335, 2)"
      ]
     },
     "execution_count": 39,
     "metadata": {},
     "output_type": "execute_result"
    }
   ],
   "source": [
    "x = Standard(x)\n",
    "x.shape"
   ]
  },
  {
   "cell_type": "markdown",
   "metadata": {},
   "source": [
    "## SVM Classifier"
   ]
  },
  {
   "cell_type": "code",
   "execution_count": 40,
   "metadata": {},
   "outputs": [],
   "source": [
    "def plot_classifier(data,target,type,C=100,svc_kernel=\"rbf\"):\n",
    "    if type == 'SVC':\n",
    "        from sklearn.svm import SVC\n",
    "        clf = SVC(C=C,kernel=svc_kernel)\n",
    "        clf.fit(data, target)\n",
    "    if type == 'Logistic':\n",
    "        from sklearn.linear_model import LogisticRegression\n",
    "        clf = LogisticRegression()\n",
    "        clf.fit(data, target)\n",
    "    plot_estimator(estimator=clf, data=data ,target=target)\n",
    "    \n",
    "def plot_estimator(estimator, data, target):\n",
    "    # *** estimator model must trained by two variables ***\n",
    "    x_min, x_max = data[:, 0].min() - 0.02, data[:, 0].max() + 0.02\n",
    "    y_min, y_max = data[:, 1].min() - 0.02, data[:, 1].max() + 0.02\n",
    "    xx, yy = numpy.meshgrid(numpy.arange(x_min, x_max, 0.005), numpy.arange(y_min, y_max, 0.005))\n",
    "    Z = estimator.predict(numpy.c_[xx.ravel(), yy.ravel()])\n",
    "    Z = Z.reshape(xx.shape)\n",
    "    plt.plot()\n",
    "    plt.contourf(xx, yy, Z, alpha=0.4, cmap = plt.cm.RdYlBu)\n",
    "    plt.scatter(data[:, 0], data[:, 1], c=target, cmap = plt.cm.brg)\n",
    "    plt.xlabel('Index Return')\n",
    "    plt.ylabel('Dividend Growth')\n",
    "    plt.show()"
   ]
  },
  {
   "cell_type": "markdown",
   "metadata": {},
   "source": [
    "## Plot Decision Boundary"
   ]
  },
  {
   "cell_type": "code",
   "execution_count": 41,
   "metadata": {},
   "outputs": [
    {
     "data": {
      "image/png": "[encoded data removed]",
      "text/plain": [
       "<Figure size 432x288 with 1 Axes>"
      ]
     },
     "metadata": {
      "needs_background": "light"
     },
     "output_type": "display_data"
    }
   ],
   "source": [
    "import matplotlib.pyplot as plt\n",
    "plot_classifier(data=x,target=y,type=\"SVC\",svc_kernel=\"linear\",C=100)"
   ]
  },
  {
   "cell_type": "code",
   "execution_count": 42,
   "metadata": {},
   "outputs": [
    {
     "data": {
      "image/png": "[encoded data removed]",
      "text/plain": [
       "<Figure size 432x288 with 1 Axes>"
      ]
     },
     "metadata": {
      "needs_background": "light"
     },
     "output_type": "display_data"
    }
   ],
   "source": [
    "plot_classifier(data=x[:1000,:],target=y[:1000],type=\"SVC\",svc_kernel=\"linear\",C=100)"
   ]
  },
  {
   "cell_type": "code",
   "execution_count": 43,
   "metadata": {},
   "outputs": [
    {
     "data": {
      "image/png": "[encoded data removed]",
      "text/plain": [
       "<Figure size 432x288 with 1 Axes>"
      ]
     },
     "metadata": {
      "needs_background": "light"
     },
     "output_type": "display_data"
    }
   ],
   "source": [
    "plot_classifier(data=x[:50,:],target=y[:50],type=\"SVC\",svc_kernel=\"rbf\",C=1000)"
   ]
  },
  {
   "cell_type": "code",
   "execution_count": 44,
   "metadata": {},
   "outputs": [
    {
     "data": {
      "image/png": "[encoded data removed]",
      "text/plain": [
       "<Figure size 432x288 with 1 Axes>"
      ]
     },
     "metadata": {
      "needs_background": "light"
     },
     "output_type": "display_data"
    }
   ],
   "source": [
    "plot_classifier(data=x[:1500,:],target=y[:1500],type=\"SVC\",svc_kernel=\"rbf\",C=1000)"
   ]
  }
 ],
 "metadata": {
  "kernelspec": {
   "display_name": "Python 3",
   "language": "python",
   "name": "python3"
  },
  "language_info": {
   "codemirror_mode": {
    "name": "ipython",
    "version": 3
   },
   "file_extension": ".py",
   "mimetype": "text/x-python",
   "name": "python",
   "nbconvert_exporter": "python",
   "pygments_lexer": "ipython3",
   "version": "3.6.10"
  }
 },
 "nbformat": 4,
 "nbformat_minor": 4
}

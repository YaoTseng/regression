{
 "cells": [
  {
   "cell_type": "code",
   "execution_count": 1,
   "metadata": {},
   "outputs": [],
   "source": [
    "import pandas as pd\n",
    "import numpy as np\n",
    "import matplotlib.pyplot as plt\n",
    "import torch\n",
    "from torch.autograd import Variable"
   ]
  },
  {
   "cell_type": "markdown",
   "metadata": {},
   "source": [
    "## Pandas Train Data"
   ]
  },
  {
   "cell_type": "code",
   "execution_count": 2,
   "metadata": {},
   "outputs": [
    {
     "data": {
      "text/html": [
       "<div>\n",
       "<style scoped>\n",
       "    .dataframe tbody tr th:only-of-type {\n",
       "        vertical-align: middle;\n",
       "    }\n",
       "\n",
       "    .dataframe tbody tr th {\n",
       "        vertical-align: top;\n",
       "    }\n",
       "\n",
       "    .dataframe thead th {\n",
       "        text-align: right;\n",
       "    }\n",
       "</style>\n",
       "<table border=\"1\" class=\"dataframe\">\n",
       "  <thead>\n",
       "    <tr style=\"text-align: right;\">\n",
       "      <th></th>\n",
       "      <th>VFINX(t-1)</th>\n",
       "      <th>TROW(t-1)</th>\n",
       "      <th>AME(t-1)</th>\n",
       "      <th>HON(t-1)</th>\n",
       "      <th>DFS(t-1)</th>\n",
       "      <th>ALL(t-1)</th>\n",
       "      <th>ACN(t-1)</th>\n",
       "      <th>ANSS(t-1)</th>\n",
       "      <th>IEX(t-1)</th>\n",
       "      <th>DOV(t-1)</th>\n",
       "      <th>...</th>\n",
       "      <th>FMC(t-1)</th>\n",
       "      <th>ADP(t-1)</th>\n",
       "      <th>ADBE(t-1)</th>\n",
       "      <th>PFG(t-1)</th>\n",
       "      <th>VFC(t-1)</th>\n",
       "      <th>J(t-1)</th>\n",
       "      <th>TEL(t-1)</th>\n",
       "      <th>KSU(t-1)</th>\n",
       "      <th>OKE(t-1)</th>\n",
       "      <th>VFINX</th>\n",
       "    </tr>\n",
       "  </thead>\n",
       "  <tbody>\n",
       "    <tr>\n",
       "      <th>0</th>\n",
       "      <td>260.239471</td>\n",
       "      <td>103.538559</td>\n",
       "      <td>78.568626</td>\n",
       "      <td>154.321274</td>\n",
       "      <td>72.776505</td>\n",
       "      <td>94.539589</td>\n",
       "      <td>167.113846</td>\n",
       "      <td>186.000000</td>\n",
       "      <td>146.973923</td>\n",
       "      <td>84.683670</td>\n",
       "      <td>...</td>\n",
       "      <td>73.115768</td>\n",
       "      <td>144.150208</td>\n",
       "      <td>275.489990</td>\n",
       "      <td>53.536732</td>\n",
       "      <td>83.702904</td>\n",
       "      <td>75.731094</td>\n",
       "      <td>83.194809</td>\n",
       "      <td>113.995712</td>\n",
       "      <td>57.925274</td>\n",
       "      <td>260.143127</td>\n",
       "    </tr>\n",
       "    <tr>\n",
       "      <th>1</th>\n",
       "      <td>260.143127</td>\n",
       "      <td>104.820305</td>\n",
       "      <td>78.539040</td>\n",
       "      <td>153.941116</td>\n",
       "      <td>73.345573</td>\n",
       "      <td>94.846626</td>\n",
       "      <td>166.767136</td>\n",
       "      <td>182.210007</td>\n",
       "      <td>145.816498</td>\n",
       "      <td>84.683670</td>\n",
       "      <td>...</td>\n",
       "      <td>74.699257</td>\n",
       "      <td>145.135178</td>\n",
       "      <td>272.000000</td>\n",
       "      <td>53.774277</td>\n",
       "      <td>83.380348</td>\n",
       "      <td>75.868683</td>\n",
       "      <td>83.271461</td>\n",
       "      <td>111.942970</td>\n",
       "      <td>57.026356</td>\n",
       "      <td>260.326233</td>\n",
       "    </tr>\n",
       "    <tr>\n",
       "      <th>2</th>\n",
       "      <td>260.326233</td>\n",
       "      <td>105.348068</td>\n",
       "      <td>78.677048</td>\n",
       "      <td>153.338425</td>\n",
       "      <td>73.990540</td>\n",
       "      <td>94.817833</td>\n",
       "      <td>167.720612</td>\n",
       "      <td>182.220001</td>\n",
       "      <td>146.837753</td>\n",
       "      <td>84.635620</td>\n",
       "      <td>...</td>\n",
       "      <td>76.641113</td>\n",
       "      <td>144.963043</td>\n",
       "      <td>270.510010</td>\n",
       "      <td>54.642189</td>\n",
       "      <td>84.043381</td>\n",
       "      <td>76.281441</td>\n",
       "      <td>83.166061</td>\n",
       "      <td>110.945923</td>\n",
       "      <td>57.488415</td>\n",
       "      <td>258.254456</td>\n",
       "    </tr>\n",
       "    <tr>\n",
       "      <th>3</th>\n",
       "      <td>258.254456</td>\n",
       "      <td>104.424477</td>\n",
       "      <td>78.115204</td>\n",
       "      <td>152.717224</td>\n",
       "      <td>73.734451</td>\n",
       "      <td>95.412743</td>\n",
       "      <td>165.524673</td>\n",
       "      <td>175.380005</td>\n",
       "      <td>145.728958</td>\n",
       "      <td>84.693268</td>\n",
       "      <td>...</td>\n",
       "      <td>76.066055</td>\n",
       "      <td>143.652939</td>\n",
       "      <td>263.709991</td>\n",
       "      <td>55.336517</td>\n",
       "      <td>81.937820</td>\n",
       "      <td>76.517296</td>\n",
       "      <td>82.552856</td>\n",
       "      <td>111.444450</td>\n",
       "      <td>57.530418</td>\n",
       "      <td>256.837982</td>\n",
       "    </tr>\n",
       "    <tr>\n",
       "      <th>4</th>\n",
       "      <td>256.837982</td>\n",
       "      <td>103.029625</td>\n",
       "      <td>77.523804</td>\n",
       "      <td>152.123840</td>\n",
       "      <td>72.861847</td>\n",
       "      <td>95.556664</td>\n",
       "      <td>164.917877</td>\n",
       "      <td>173.750000</td>\n",
       "      <td>144.007416</td>\n",
       "      <td>83.991982</td>\n",
       "      <td>...</td>\n",
       "      <td>75.557678</td>\n",
       "      <td>144.389282</td>\n",
       "      <td>263.220001</td>\n",
       "      <td>54.815769</td>\n",
       "      <td>81.955727</td>\n",
       "      <td>75.220070</td>\n",
       "      <td>80.665329</td>\n",
       "      <td>109.577431</td>\n",
       "      <td>57.639633</td>\n",
       "      <td>256.731964</td>\n",
       "    </tr>\n",
       "  </tbody>\n",
       "</table>\n",
       "<p>5 rows × 21 columns</p>\n",
       "</div>"
      ],
      "text/plain": [
       "   VFINX(t-1)   TROW(t-1)   AME(t-1)    HON(t-1)   DFS(t-1)   ALL(t-1)  \\\n",
       "0  260.239471  103.538559  78.568626  154.321274  72.776505  94.539589   \n",
       "1  260.143127  104.820305  78.539040  153.941116  73.345573  94.846626   \n",
       "2  260.326233  105.348068  78.677048  153.338425  73.990540  94.817833   \n",
       "3  258.254456  104.424477  78.115204  152.717224  73.734451  95.412743   \n",
       "4  256.837982  103.029625  77.523804  152.123840  72.861847  95.556664   \n",
       "\n",
       "     ACN(t-1)   ANSS(t-1)    IEX(t-1)   DOV(t-1)  ...   FMC(t-1)    ADP(t-1)  \\\n",
       "0  167.113846  186.000000  146.973923  84.683670  ...  73.115768  144.150208   \n",
       "1  166.767136  182.210007  145.816498  84.683670  ...  74.699257  145.135178   \n",
       "2  167.720612  182.220001  146.837753  84.635620  ...  76.641113  144.963043   \n",
       "3  165.524673  175.380005  145.728958  84.693268  ...  76.066055  143.652939   \n",
       "4  164.917877  173.750000  144.007416  83.991982  ...  75.557678  144.389282   \n",
       "\n",
       "    ADBE(t-1)   PFG(t-1)   VFC(t-1)     J(t-1)   TEL(t-1)    KSU(t-1)  \\\n",
       "0  275.489990  53.536732  83.702904  75.731094  83.194809  113.995712   \n",
       "1  272.000000  53.774277  83.380348  75.868683  83.271461  111.942970   \n",
       "2  270.510010  54.642189  84.043381  76.281441  83.166061  110.945923   \n",
       "3  263.709991  55.336517  81.937820  76.517296  82.552856  111.444450   \n",
       "4  263.220001  54.815769  81.955727  75.220070  80.665329  109.577431   \n",
       "\n",
       "    OKE(t-1)       VFINX  \n",
       "0  57.925274  260.143127  \n",
       "1  57.026356  260.326233  \n",
       "2  57.488415  258.254456  \n",
       "3  57.530418  256.837982  \n",
       "4  57.639633  256.731964  \n",
       "\n",
       "[5 rows x 21 columns]"
      ]
     },
     "execution_count": 2,
     "metadata": {},
     "output_type": "execute_result"
    }
   ],
   "source": [
    "dataframe_train = pd.read_csv('train_data-2018-09-29-2019-09-29.csv')\n",
    "dataframe_train = dataframe_train.fillna(method='ffill')\n",
    "del dataframe_train['Date']\n",
    "dataframe_train.head()"
   ]
  },
  {
   "cell_type": "markdown",
   "metadata": {},
   "source": [
    "## Pandas Test Data"
   ]
  },
  {
   "cell_type": "code",
   "execution_count": 3,
   "metadata": {},
   "outputs": [
    {
     "data": {
      "text/html": [
       "<div>\n",
       "<style scoped>\n",
       "    .dataframe tbody tr th:only-of-type {\n",
       "        vertical-align: middle;\n",
       "    }\n",
       "\n",
       "    .dataframe tbody tr th {\n",
       "        vertical-align: top;\n",
       "    }\n",
       "\n",
       "    .dataframe thead th {\n",
       "        text-align: right;\n",
       "    }\n",
       "</style>\n",
       "<table border=\"1\" class=\"dataframe\">\n",
       "  <thead>\n",
       "    <tr style=\"text-align: right;\">\n",
       "      <th></th>\n",
       "      <th>VFINX(t-1)</th>\n",
       "      <th>TROW(t-1)</th>\n",
       "      <th>AME(t-1)</th>\n",
       "      <th>HON(t-1)</th>\n",
       "      <th>DFS(t-1)</th>\n",
       "      <th>ALL(t-1)</th>\n",
       "      <th>ACN(t-1)</th>\n",
       "      <th>ANSS(t-1)</th>\n",
       "      <th>IEX(t-1)</th>\n",
       "      <th>DOV(t-1)</th>\n",
       "      <th>...</th>\n",
       "      <th>FMC(t-1)</th>\n",
       "      <th>ADP(t-1)</th>\n",
       "      <th>ADBE(t-1)</th>\n",
       "      <th>PFG(t-1)</th>\n",
       "      <th>VFC(t-1)</th>\n",
       "      <th>J(t-1)</th>\n",
       "      <th>TEL(t-1)</th>\n",
       "      <th>KSU(t-1)</th>\n",
       "      <th>OKE(t-1)</th>\n",
       "      <th>VFINX</th>\n",
       "    </tr>\n",
       "  </thead>\n",
       "  <tbody>\n",
       "    <tr>\n",
       "      <th>0</th>\n",
       "      <td>260.239471</td>\n",
       "      <td>103.538559</td>\n",
       "      <td>78.568626</td>\n",
       "      <td>154.321274</td>\n",
       "      <td>72.776505</td>\n",
       "      <td>94.539589</td>\n",
       "      <td>167.113846</td>\n",
       "      <td>186.000000</td>\n",
       "      <td>146.973923</td>\n",
       "      <td>84.683670</td>\n",
       "      <td>...</td>\n",
       "      <td>73.115768</td>\n",
       "      <td>144.150208</td>\n",
       "      <td>275.489990</td>\n",
       "      <td>53.536732</td>\n",
       "      <td>83.702904</td>\n",
       "      <td>75.731094</td>\n",
       "      <td>83.194809</td>\n",
       "      <td>113.995712</td>\n",
       "      <td>57.925274</td>\n",
       "      <td>260.143127</td>\n",
       "    </tr>\n",
       "    <tr>\n",
       "      <th>1</th>\n",
       "      <td>260.143127</td>\n",
       "      <td>104.820305</td>\n",
       "      <td>78.539040</td>\n",
       "      <td>153.941116</td>\n",
       "      <td>73.345573</td>\n",
       "      <td>94.846626</td>\n",
       "      <td>166.767136</td>\n",
       "      <td>182.210007</td>\n",
       "      <td>145.816498</td>\n",
       "      <td>84.683670</td>\n",
       "      <td>...</td>\n",
       "      <td>74.699257</td>\n",
       "      <td>145.135178</td>\n",
       "      <td>272.000000</td>\n",
       "      <td>53.774277</td>\n",
       "      <td>83.380348</td>\n",
       "      <td>75.868683</td>\n",
       "      <td>83.271461</td>\n",
       "      <td>111.942970</td>\n",
       "      <td>57.026356</td>\n",
       "      <td>260.326233</td>\n",
       "    </tr>\n",
       "    <tr>\n",
       "      <th>2</th>\n",
       "      <td>260.326233</td>\n",
       "      <td>105.348068</td>\n",
       "      <td>78.677048</td>\n",
       "      <td>153.338425</td>\n",
       "      <td>73.990540</td>\n",
       "      <td>94.817833</td>\n",
       "      <td>167.720612</td>\n",
       "      <td>182.220001</td>\n",
       "      <td>146.837753</td>\n",
       "      <td>84.635620</td>\n",
       "      <td>...</td>\n",
       "      <td>76.641113</td>\n",
       "      <td>144.963043</td>\n",
       "      <td>270.510010</td>\n",
       "      <td>54.642189</td>\n",
       "      <td>84.043381</td>\n",
       "      <td>76.281441</td>\n",
       "      <td>83.166061</td>\n",
       "      <td>110.945923</td>\n",
       "      <td>57.488415</td>\n",
       "      <td>258.254456</td>\n",
       "    </tr>\n",
       "    <tr>\n",
       "      <th>3</th>\n",
       "      <td>258.254456</td>\n",
       "      <td>104.424477</td>\n",
       "      <td>78.115204</td>\n",
       "      <td>152.717224</td>\n",
       "      <td>73.734451</td>\n",
       "      <td>95.412743</td>\n",
       "      <td>165.524673</td>\n",
       "      <td>175.380005</td>\n",
       "      <td>145.728958</td>\n",
       "      <td>84.693268</td>\n",
       "      <td>...</td>\n",
       "      <td>76.066055</td>\n",
       "      <td>143.652939</td>\n",
       "      <td>263.709991</td>\n",
       "      <td>55.336517</td>\n",
       "      <td>81.937820</td>\n",
       "      <td>76.517296</td>\n",
       "      <td>82.552856</td>\n",
       "      <td>111.444450</td>\n",
       "      <td>57.530418</td>\n",
       "      <td>256.837982</td>\n",
       "    </tr>\n",
       "    <tr>\n",
       "      <th>4</th>\n",
       "      <td>256.837982</td>\n",
       "      <td>103.029625</td>\n",
       "      <td>77.523804</td>\n",
       "      <td>152.123840</td>\n",
       "      <td>72.861847</td>\n",
       "      <td>95.556664</td>\n",
       "      <td>164.917877</td>\n",
       "      <td>173.750000</td>\n",
       "      <td>144.007416</td>\n",
       "      <td>83.991982</td>\n",
       "      <td>...</td>\n",
       "      <td>75.557678</td>\n",
       "      <td>144.389282</td>\n",
       "      <td>263.220001</td>\n",
       "      <td>54.815769</td>\n",
       "      <td>81.955727</td>\n",
       "      <td>75.220070</td>\n",
       "      <td>80.665329</td>\n",
       "      <td>109.577431</td>\n",
       "      <td>57.639633</td>\n",
       "      <td>256.731964</td>\n",
       "    </tr>\n",
       "  </tbody>\n",
       "</table>\n",
       "<p>5 rows × 21 columns</p>\n",
       "</div>"
      ],
      "text/plain": [
       "   VFINX(t-1)   TROW(t-1)   AME(t-1)    HON(t-1)   DFS(t-1)   ALL(t-1)  \\\n",
       "0  260.239471  103.538559  78.568626  154.321274  72.776505  94.539589   \n",
       "1  260.143127  104.820305  78.539040  153.941116  73.345573  94.846626   \n",
       "2  260.326233  105.348068  78.677048  153.338425  73.990540  94.817833   \n",
       "3  258.254456  104.424477  78.115204  152.717224  73.734451  95.412743   \n",
       "4  256.837982  103.029625  77.523804  152.123840  72.861847  95.556664   \n",
       "\n",
       "     ACN(t-1)   ANSS(t-1)    IEX(t-1)   DOV(t-1)  ...   FMC(t-1)    ADP(t-1)  \\\n",
       "0  167.113846  186.000000  146.973923  84.683670  ...  73.115768  144.150208   \n",
       "1  166.767136  182.210007  145.816498  84.683670  ...  74.699257  145.135178   \n",
       "2  167.720612  182.220001  146.837753  84.635620  ...  76.641113  144.963043   \n",
       "3  165.524673  175.380005  145.728958  84.693268  ...  76.066055  143.652939   \n",
       "4  164.917877  173.750000  144.007416  83.991982  ...  75.557678  144.389282   \n",
       "\n",
       "    ADBE(t-1)   PFG(t-1)   VFC(t-1)     J(t-1)   TEL(t-1)    KSU(t-1)  \\\n",
       "0  275.489990  53.536732  83.702904  75.731094  83.194809  113.995712   \n",
       "1  272.000000  53.774277  83.380348  75.868683  83.271461  111.942970   \n",
       "2  270.510010  54.642189  84.043381  76.281441  83.166061  110.945923   \n",
       "3  263.709991  55.336517  81.937820  76.517296  82.552856  111.444450   \n",
       "4  263.220001  54.815769  81.955727  75.220070  80.665329  109.577431   \n",
       "\n",
       "    OKE(t-1)       VFINX  \n",
       "0  57.925274  260.143127  \n",
       "1  57.026356  260.326233  \n",
       "2  57.488415  258.254456  \n",
       "3  57.530418  256.837982  \n",
       "4  57.639633  256.731964  \n",
       "\n",
       "[5 rows x 21 columns]"
      ]
     },
     "execution_count": 3,
     "metadata": {},
     "output_type": "execute_result"
    }
   ],
   "source": [
    "dataframe_pred = pd.read_csv('train_data-2018-09-29-2019-09-29.csv')\n",
    "dataframe_pred = dataframe_pred.fillna(method='ffill')\n",
    "del dataframe_pred['Date']\n",
    "dataframe_pred.head()"
   ]
  },
  {
   "cell_type": "code",
   "execution_count": 4,
   "metadata": {},
   "outputs": [
    {
     "name": "stdout",
     "output_type": "stream",
     "text": [
      "PCA(n_components=11)\n",
      "[[-11.73655479  -3.32322856  -5.03745337 ...  -3.45392431  -3.47678847\n",
      "    2.03125418]\n",
      " [ -8.45443254  -1.45621021  -7.51890488 ...  -3.99747458  -1.68162056\n",
      "    3.00208837]\n",
      " [ -8.20531104   0.17216393  -6.8468852  ...  -4.56201418  -0.08028683\n",
      "    1.00545091]\n",
      " ...\n",
      " [-56.64414615  24.36003441   0.37866808 ...  -0.72616687  -1.04293158\n",
      "   -0.51831103]\n",
      " [-61.70266595  20.99816612   0.97789258 ...  -0.07029132  -1.1301173\n",
      "   -1.54115553]\n",
      " [-66.41388598  16.4839087    4.52452084 ...  -1.01662805  -2.49204156\n",
      "   -2.96534773]]\n",
      "[0.9254424  0.01999356 0.01626331 0.01023387 0.00778932 0.00484228\n",
      " 0.00296859 0.00283688 0.00198167 0.00146751 0.00136901]\n"
     ]
    }
   ],
   "source": [
    "import numpy as np  \n",
    "from sklearn.decomposition import PCA  \n",
    "X = np.array(dataframe_train[:249])  \n",
    "pca = PCA(n_components=11)  \n",
    "print (pca)  \n",
    "newData = pca.fit_transform(X) \n",
    "print(newData)\n",
    "print(pca.explained_variance_ratio_) "
   ]
  },
  {
   "cell_type": "markdown",
   "metadata": {},
   "source": [
    "## Normalize test"
   ]
  },
  {
   "cell_type": "code",
   "execution_count": 5,
   "metadata": {
    "scrolled": true
   },
   "outputs": [
    {
     "name": "stdout",
     "output_type": "stream",
     "text": [
      "ShapiroResult(statistic=0.961226761341095, pvalue=2.964588929899037e-06)\n",
      "ShapiroResult(statistic=0.9770286679267883, pvalue=0.0004644916334655136)\n"
     ]
    }
   ],
   "source": [
    "from scipy import stats\n",
    "print(stats.shapiro(dataframe_train['VFINX(t-1)'].values))\n",
    "print(stats.shapiro(dataframe_train['TROW(t-1)'].values))"
   ]
  },
  {
   "cell_type": "code",
   "execution_count": null,
   "metadata": {
    "scrolled": true
   },
   "outputs": [],
   "source": []
  },
  {
   "cell_type": "markdown",
   "metadata": {},
   "source": [
    "## Min Max Scaler"
   ]
  },
  {
   "cell_type": "code",
   "execution_count": 6,
   "metadata": {},
   "outputs": [],
   "source": [
    "\n",
    "from sklearn.preprocessing import MinMaxScaler\n",
    "\n",
    "scaler = MinMaxScaler()\n",
    "scaler = scaler.fit(newData[:249])\n",
    "scaled_train = scaler.fit_transform(newData[:249])\n",
    "scaled_train = Variable(torch.tensor(scaled_train).type(torch.FloatTensor))\n",
    "\n",
    "scal = MinMaxScaler()\n",
    "scal = scaler.fit(newData[:249])\n",
    "scaled_test = scal.fit_transform(newData[:249])\n",
    "scaled_test = Variable(torch.tensor(scaled_test).type(torch.FloatTensor))\n",
    "\n"
   ]
  },
  {
   "cell_type": "code",
   "execution_count": 7,
   "metadata": {},
   "outputs": [
    {
     "name": "stdout",
     "output_type": "stream",
     "text": [
      "tensor(0.9089, grad_fn=<MseLossBackward>)\n",
      "tensor(0.0713, grad_fn=<MseLossBackward>)\n",
      "tensor(0.0703, grad_fn=<MseLossBackward>)\n",
      "tensor(0.0694, grad_fn=<MseLossBackward>)\n",
      "tensor(0.0686, grad_fn=<MseLossBackward>)\n",
      "tensor(0.0679, grad_fn=<MseLossBackward>)\n",
      "tensor(0.0673, grad_fn=<MseLossBackward>)\n",
      "tensor(0.0668, grad_fn=<MseLossBackward>)\n",
      "tensor(0.0663, grad_fn=<MseLossBackward>)\n",
      "tensor(0.0659, grad_fn=<MseLossBackward>)\n"
     ]
    },
    {
     "name": "stderr",
     "output_type": "stream",
     "text": [
      "D:\\anaconda\\lib\\site-packages\\torch\\nn\\modules\\loss.py:446: UserWarning: Using a target size (torch.Size([249])) that is different to the input size (torch.Size([249, 1])). This will likely lead to incorrect results due to broadcasting. Please ensure they have the same size.\n",
      "  return F.mse_loss(input, target, reduction=self.reduction)\n"
     ]
    }
   ],
   "source": [
    "import torch.nn as nn\n",
    "losses = []\n",
    "\n",
    "model = nn.Sequential(torch.nn.Linear(11,1))\n",
    "optimizer = torch.optim.SGD(model.parameters(), lr=0.09)\n",
    "loss_function = torch.nn.MSELoss()\n",
    "\n",
    "for epoch in range(0,100):\n",
    "    prediction = model(scaled_train)\n",
    "    loss = loss_function(prediction,scaled_test[:,0])\n",
    "    losses.append(loss)\n",
    "    optimizer.zero_grad()\n",
    "    loss.backward()\n",
    "    optimizer.step()\n",
    "    if epoch % 10 == 0:\n",
    "        print(loss)"
   ]
  },
  {
   "cell_type": "markdown",
   "metadata": {},
   "source": [
    "## Show Loss"
   ]
  },
  {
   "cell_type": "code",
   "execution_count": 8,
   "metadata": {},
   "outputs": [
    {
     "data": {
      "image/png": "[encoded data removed]",
      "text/plain": [
       "<Figure size 432x288 with 1 Axes>"
      ]
     },
     "metadata": {
      "needs_background": "light"
     },
     "output_type": "display_data"
    }
   ],
   "source": [
    "plt.plot(losses)\n",
    "plt.xlabel('Epochs')\n",
    "plt.ylabel('loss')\n",
    "plt.show()"
   ]
  },
  {
   "cell_type": "markdown",
   "metadata": {},
   "source": [
    "## Draw Data(Scaler)"
   ]
  },
  {
   "cell_type": "code",
   "execution_count": 9,
   "metadata": {},
   "outputs": [
    {
     "data": {
      "image/png": "[encoded data removed]",
      "text/plain": [
       "<Figure size 1080x864 with 1 Axes>"
      ]
     },
     "metadata": {
      "needs_background": "light"
     },
     "output_type": "display_data"
    }
   ],
   "source": [
    "plt.figure(figsize=(15,12))\n",
    "x_plot, = plt.plot(scaled_test[:,0],'magenta')\n",
    "y_plot, = plt.plot(prediction.data, 'g--')\n",
    "plt.xlabel('data seq')\n",
    "plt.ylabel('VFINX')\n",
    "plt.legend([x_plot,y_plot],['data','pred'])\n",
    "plt.show()"
   ]
  },
  {
   "cell_type": "code",
   "execution_count": 10,
   "metadata": {},
   "outputs": [
    {
     "ename": "SyntaxError",
     "evalue": "invalid syntax (<ipython-input-10-5c92b0cc3024>, line 4)",
     "output_type": "error",
     "traceback": [
      "\u001b[1;36m  File \u001b[1;32m\"<ipython-input-10-5c92b0cc3024>\"\u001b[1;36m, line \u001b[1;32m4\u001b[0m\n\u001b[1;33m    for i in range(0,249)\u001b[0m\n\u001b[1;37m                         ^\u001b[0m\n\u001b[1;31mSyntaxError\u001b[0m\u001b[1;31m:\u001b[0m invalid syntax\n"
     ]
    }
   ],
   "source": [
    "data1 = scaler.inverse_transform(scaled_train)\n",
    "data2 = np.array(prediction.data)\n",
    "\n",
    "for i in range(0,249)\n",
    "    data2[i] = data2[i] * (newData['VFINX'].max() - scal.min_[10]) + scal.min_[10]\n",
    "\n",
    "\n",
    "plt.figure(figsize=(15,12))\n",
    "x_plot, = plt.plot(data1[:,0],'magenta')\n",
    "y_plot, = plt.plot(data2, 'g--')\n",
    "plt.xlabel('data seq')\n",
    "plt.ylabel('vfinx')\n",
    "plt.legend([x_plot,y_plot],['data','pred'])\n",
    "plt.show()"
   ]
  },
  {
   "cell_type": "code",
   "execution_count": null,
   "metadata": {},
   "outputs": [],
   "source": []
  }
 ],
 "metadata": {
  "kernelspec": {
   "display_name": "Python 3",
   "language": "python",
   "name": "python3"
  },
  "language_info": {
   "codemirror_mode": {
    "name": "ipython",
    "version": 3
   },
   "file_extension": ".py",
   "mimetype": "text/x-python",
   "name": "python",
   "nbconvert_exporter": "python",
   "pygments_lexer": "ipython3",
   "version": "3.8.3"
  }
 },
 "nbformat": 4,
 "nbformat_minor": 2
}
